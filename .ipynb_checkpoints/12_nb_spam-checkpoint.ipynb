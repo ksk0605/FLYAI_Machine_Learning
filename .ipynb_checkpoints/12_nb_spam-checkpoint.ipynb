{
 "cells": [
  {
   "cell_type": "markdown",
   "id": "8fa3494a-d635-46cb-aefd-85fb7f4d2935",
   "metadata": {},
   "source": [
    "# Naive Bayes\n",
    "---"
   ]
  },
  {
   "cell_type": "markdown",
   "id": "1c21c77e-09f5-4561-9577-0397e1cc38af",
   "metadata": {},
   "source": [
    "## spam 메일 \n",
    "* 문자열을 숫자로 정리하는 법"
   ]
  },
  {
   "cell_type": "code",
   "execution_count": 97,
   "id": "25b1d63f-9285-4bcf-ba12-72a5d35f97eb",
   "metadata": {},
   "outputs": [],
   "source": [
    "import pandas as pd \n",
    "\n",
    "spam = pd.read_csv('./datasets/spam.csv', encoding='latin-1')"
   ]
  },
  {
   "cell_type": "code",
   "execution_count": 98,
   "id": "dd829c03-1e0d-4bd5-90fc-a01e5a23e346",
   "metadata": {},
   "outputs": [
    {
     "data": {
      "text/html": [
       "<div>\n",
       "<style scoped>\n",
       "    .dataframe tbody tr th:only-of-type {\n",
       "        vertical-align: middle;\n",
       "    }\n",
       "\n",
       "    .dataframe tbody tr th {\n",
       "        vertical-align: top;\n",
       "    }\n",
       "\n",
       "    .dataframe thead th {\n",
       "        text-align: right;\n",
       "    }\n",
       "</style>\n",
       "<table border=\"1\" class=\"dataframe\">\n",
       "  <thead>\n",
       "    <tr style=\"text-align: right;\">\n",
       "      <th></th>\n",
       "      <th>v1</th>\n",
       "      <th>v2</th>\n",
       "      <th>Unnamed: 2</th>\n",
       "      <th>Unnamed: 3</th>\n",
       "      <th>Unnamed: 4</th>\n",
       "    </tr>\n",
       "  </thead>\n",
       "  <tbody>\n",
       "    <tr>\n",
       "      <th>0</th>\n",
       "      <td>ham</td>\n",
       "      <td>Go until jurong point, crazy.. Available only ...</td>\n",
       "      <td>NaN</td>\n",
       "      <td>NaN</td>\n",
       "      <td>NaN</td>\n",
       "    </tr>\n",
       "    <tr>\n",
       "      <th>1</th>\n",
       "      <td>ham</td>\n",
       "      <td>Ok lar... Joking wif u oni...</td>\n",
       "      <td>NaN</td>\n",
       "      <td>NaN</td>\n",
       "      <td>NaN</td>\n",
       "    </tr>\n",
       "    <tr>\n",
       "      <th>2</th>\n",
       "      <td>spam</td>\n",
       "      <td>Free entry in 2 a wkly comp to win FA Cup fina...</td>\n",
       "      <td>NaN</td>\n",
       "      <td>NaN</td>\n",
       "      <td>NaN</td>\n",
       "    </tr>\n",
       "    <tr>\n",
       "      <th>3</th>\n",
       "      <td>ham</td>\n",
       "      <td>U dun say so early hor... U c already then say...</td>\n",
       "      <td>NaN</td>\n",
       "      <td>NaN</td>\n",
       "      <td>NaN</td>\n",
       "    </tr>\n",
       "    <tr>\n",
       "      <th>4</th>\n",
       "      <td>ham</td>\n",
       "      <td>Nah I don't think he goes to usf, he lives aro...</td>\n",
       "      <td>NaN</td>\n",
       "      <td>NaN</td>\n",
       "      <td>NaN</td>\n",
       "    </tr>\n",
       "  </tbody>\n",
       "</table>\n",
       "</div>"
      ],
      "text/plain": [
       "     v1                                                 v2 Unnamed: 2  \\\n",
       "0   ham  Go until jurong point, crazy.. Available only ...        NaN   \n",
       "1   ham                      Ok lar... Joking wif u oni...        NaN   \n",
       "2  spam  Free entry in 2 a wkly comp to win FA Cup fina...        NaN   \n",
       "3   ham  U dun say so early hor... U c already then say...        NaN   \n",
       "4   ham  Nah I don't think he goes to usf, he lives aro...        NaN   \n",
       "\n",
       "  Unnamed: 3 Unnamed: 4  \n",
       "0        NaN        NaN  \n",
       "1        NaN        NaN  \n",
       "2        NaN        NaN  \n",
       "3        NaN        NaN  \n",
       "4        NaN        NaN  "
      ]
     },
     "execution_count": 98,
     "metadata": {},
     "output_type": "execute_result"
    }
   ],
   "source": [
    "spam.head()"
   ]
  },
  {
   "cell_type": "code",
   "execution_count": 99,
   "id": "e5073cfd-1d4d-4b11-ba26-d685f1b5390c",
   "metadata": {},
   "outputs": [
    {
     "name": "stdout",
     "output_type": "stream",
     "text": [
      "<class 'pandas.core.frame.DataFrame'>\n",
      "RangeIndex: 5572 entries, 0 to 5571\n",
      "Data columns (total 5 columns):\n",
      " #   Column      Non-Null Count  Dtype \n",
      "---  ------      --------------  ----- \n",
      " 0   v1          5572 non-null   object\n",
      " 1   v2          5572 non-null   object\n",
      " 2   Unnamed: 2  50 non-null     object\n",
      " 3   Unnamed: 3  12 non-null     object\n",
      " 4   Unnamed: 4  6 non-null      object\n",
      "dtypes: object(5)\n",
      "memory usage: 217.8+ KB\n"
     ]
    }
   ],
   "source": [
    "spam.info()"
   ]
  },
  {
   "cell_type": "code",
   "execution_count": 100,
   "id": "247f3801-f84f-4b18-9a23-55f030de79bf",
   "metadata": {},
   "outputs": [
    {
     "data": {
      "text/plain": [
       "ham     4825\n",
       "spam     747\n",
       "Name: v1, dtype: int64"
      ]
     },
     "execution_count": 100,
     "metadata": {},
     "output_type": "execute_result"
    }
   ],
   "source": [
    "spam['v1'].value_counts()"
   ]
  },
  {
   "cell_type": "code",
   "execution_count": 101,
   "id": "029eae4a-d6cb-4aa9-b002-0ac44d6deea5",
   "metadata": {},
   "outputs": [
    {
     "data": {
      "text/plain": [
       "2       Free entry in 2 a wkly comp to win FA Cup fina...\n",
       "5       FreeMsg Hey there darling it's been 3 week's n...\n",
       "8       WINNER!! As a valued network customer you have...\n",
       "9       Had your mobile 11 months or more? U R entitle...\n",
       "11      SIX chances to win CASH! From 100 to 20,000 po...\n",
       "                              ...                        \n",
       "5537    Want explicit SEX in 30 secs? Ring 02073162414...\n",
       "5540    ASKED 3MOBILE IF 0870 CHATLINES INCLU IN FREE ...\n",
       "5547    Had your contract mobile 11 Mnths? Latest Moto...\n",
       "5566    REMINDER FROM O2: To get 2.50 pounds free call...\n",
       "5567    This is the 2nd time we have tried 2 contact u...\n",
       "Name: v2, Length: 747, dtype: object"
      ]
     },
     "execution_count": 101,
     "metadata": {},
     "output_type": "execute_result"
    }
   ],
   "source": [
    "spam.loc[spam['v1']=='ham', 'v2']\n",
    "spam.loc[spam['v1']=='spam', 'v2']"
   ]
  },
  {
   "cell_type": "code",
   "execution_count": 102,
   "id": "60a08c22-2cc9-4d49-a51c-f841091af8e2",
   "metadata": {},
   "outputs": [],
   "source": [
    "c = ' '.join(spam.loc[spam['v1']=='ham', 'v2'])\n",
    "c2 = ' '.join(spam.loc[spam['v1']=='spam', 'v2'])"
   ]
  },
  {
   "cell_type": "code",
   "execution_count": 103,
   "id": "a6a1d12a-6022-4fd1-84ea-04d70111e0a5",
   "metadata": {},
   "outputs": [],
   "source": [
    "l = c.split(' ')\n",
    "l[:10]\n",
    "l2 = c.split(' ')"
   ]
  },
  {
   "cell_type": "code",
   "execution_count": 104,
   "id": "925ec896-6a12-4063-a154-13b627e34ef2",
   "metadata": {},
   "outputs": [],
   "source": [
    "from collections import Counter \n",
    "\n",
    "counter1 = Counter(l) \n",
    "counter2 = Counter(l2)"
   ]
  },
  {
   "cell_type": "code",
   "execution_count": 105,
   "id": "b324e257-32dc-4feb-a407-1b56c4863d56",
   "metadata": {},
   "outputs": [],
   "source": [
    "df1 = pd.DataFrame(list(counter1.items()))\n",
    "df2 = pd.DataFrame(list(counter2.items()))"
   ]
  },
  {
   "cell_type": "markdown",
   "id": "f5b996f7-75ec-4817-9db0-25f9df125f04",
   "metadata": {},
   "source": [
    "* 단어들을 전부 feature가 된 table을 만들기 위해 먼저 dict로 변환\n",
    "* 그 후에 dataframe으로 만듦"
   ]
  },
  {
   "cell_type": "code",
   "execution_count": 106,
   "id": "eaea9c3a-c80e-4916-be8f-b1e012e9cab6",
   "metadata": {},
   "outputs": [
    {
     "data": {
      "text/plain": [
       "(                  0   1\n",
       " 0                Go  10\n",
       " 1             until  21\n",
       " 2            jurong   1\n",
       " 3            point,   1\n",
       " 4           crazy..   1\n",
       " ...             ...  ..\n",
       " 12475         Pity,   1\n",
       " 12476      So...any   1\n",
       " 12477  suggestions?   1\n",
       " 12478      bitching   1\n",
       " 12479         Rofl.   1\n",
       " \n",
       " [12480 rows x 2 columns],\n",
       "                   0   1\n",
       " 0                Go  10\n",
       " 1             until  21\n",
       " 2            jurong   1\n",
       " 3            point,   1\n",
       " 4           crazy..   1\n",
       " ...             ...  ..\n",
       " 12475         Pity,   1\n",
       " 12476      So...any   1\n",
       " 12477  suggestions?   1\n",
       " 12478      bitching   1\n",
       " 12479         Rofl.   1\n",
       " \n",
       " [12480 rows x 2 columns])"
      ]
     },
     "execution_count": 106,
     "metadata": {},
     "output_type": "execute_result"
    }
   ],
   "source": [
    "df1, df2"
   ]
  },
  {
   "cell_type": "code",
   "execution_count": 107,
   "id": "ecc911e5-494a-4400-afe8-4c29f9dcf76a",
   "metadata": {},
   "outputs": [],
   "source": [
    "df1.columns = ['words in non spam', 'count']\n",
    "df2.columns = ['words in spam', 'count']"
   ]
  },
  {
   "cell_type": "code",
   "execution_count": 108,
   "id": "b902a3c7-bdc9-45bd-9281-b105d77df335",
   "metadata": {},
   "outputs": [
    {
     "data": {
      "text/html": [
       "<div>\n",
       "<style scoped>\n",
       "    .dataframe tbody tr th:only-of-type {\n",
       "        vertical-align: middle;\n",
       "    }\n",
       "\n",
       "    .dataframe tbody tr th {\n",
       "        vertical-align: top;\n",
       "    }\n",
       "\n",
       "    .dataframe thead th {\n",
       "        text-align: right;\n",
       "    }\n",
       "</style>\n",
       "<table border=\"1\" class=\"dataframe\">\n",
       "  <thead>\n",
       "    <tr style=\"text-align: right;\">\n",
       "      <th></th>\n",
       "      <th>words in spam</th>\n",
       "      <th>count</th>\n",
       "    </tr>\n",
       "  </thead>\n",
       "  <tbody>\n",
       "    <tr>\n",
       "      <th>0</th>\n",
       "      <td>Go</td>\n",
       "      <td>10</td>\n",
       "    </tr>\n",
       "    <tr>\n",
       "      <th>1</th>\n",
       "      <td>until</td>\n",
       "      <td>21</td>\n",
       "    </tr>\n",
       "    <tr>\n",
       "      <th>2</th>\n",
       "      <td>jurong</td>\n",
       "      <td>1</td>\n",
       "    </tr>\n",
       "    <tr>\n",
       "      <th>3</th>\n",
       "      <td>point,</td>\n",
       "      <td>1</td>\n",
       "    </tr>\n",
       "    <tr>\n",
       "      <th>4</th>\n",
       "      <td>crazy..</td>\n",
       "      <td>1</td>\n",
       "    </tr>\n",
       "  </tbody>\n",
       "</table>\n",
       "</div>"
      ],
      "text/plain": [
       "  words in spam  count\n",
       "0            Go     10\n",
       "1         until     21\n",
       "2        jurong      1\n",
       "3        point,      1\n",
       "4       crazy..      1"
      ]
     },
     "execution_count": 108,
     "metadata": {},
     "output_type": "execute_result"
    }
   ],
   "source": [
    "df2.head()"
   ]
  },
  {
   "cell_type": "code",
   "execution_count": 109,
   "id": "823ed5da-6dc8-46a4-9358-e1e80127d4c5",
   "metadata": {},
   "outputs": [],
   "source": [
    "from sklearn import feature_extraction\n",
    "\n",
    "fe = feature_extraction.text.CountVectorizer(stop_words='english')\n",
    "# 텍스트를 카운트 해서 숫자화"
   ]
  },
  {
   "cell_type": "code",
   "execution_count": 110,
   "id": "1ced16a5-cc40-41d4-bf82-8c4373382e81",
   "metadata": {},
   "outputs": [
    {
     "data": {
      "text/plain": [
       "(5572, 8404)"
      ]
     },
     "execution_count": 110,
     "metadata": {},
     "output_type": "execute_result"
    }
   ],
   "source": [
    "X = fe.fit_transform(spam['v2'])\n",
    "X.shape"
   ]
  },
  {
   "cell_type": "code",
   "execution_count": 111,
   "id": "4e1ca53a-f434-45fe-bd2d-06727bba4e50",
   "metadata": {},
   "outputs": [],
   "source": [
    "y = spam['v1'].map({'spam' : 1, 'ham' :0})"
   ]
  },
  {
   "cell_type": "code",
   "execution_count": 112,
   "id": "6746426d-c244-4a91-a4a7-e6156cb448f3",
   "metadata": {},
   "outputs": [
    {
     "data": {
      "text/plain": [
       "0       0\n",
       "1       0\n",
       "2       1\n",
       "3       0\n",
       "4       0\n",
       "       ..\n",
       "5567    1\n",
       "5568    0\n",
       "5569    0\n",
       "5570    0\n",
       "5571    0\n",
       "Name: v1, Length: 5572, dtype: int64"
      ]
     },
     "execution_count": 112,
     "metadata": {},
     "output_type": "execute_result"
    }
   ],
   "source": [
    "y"
   ]
  },
  {
   "cell_type": "markdown",
   "id": "68b489ce-9b16-4f40-881f-7fca3cd5c22a",
   "metadata": {},
   "source": [
    "## 테스트/학습 데이터 분리"
   ]
  },
  {
   "cell_type": "code",
   "execution_count": 113,
   "id": "86ebab9c-b49b-4cf2-befe-aec9adeeec02",
   "metadata": {},
   "outputs": [],
   "source": [
    "from sklearn.model_selection import train_test_split\n",
    "\n",
    "X_train, X_test, y_train, y_test = train_test_split(X, y, test_size=0.3, random_state = 2022, stratify=y)"
   ]
  },
  {
   "cell_type": "code",
   "execution_count": 114,
   "id": "2a7a163e-7451-4433-9b05-d61c6d236fe1",
   "metadata": {},
   "outputs": [
    {
     "data": {
      "text/plain": [
       "(3900, 8404)"
      ]
     },
     "execution_count": 114,
     "metadata": {},
     "output_type": "execute_result"
    }
   ],
   "source": [
    "X_train.shape"
   ]
  },
  {
   "cell_type": "code",
   "execution_count": 115,
   "id": "88658aa0-90e5-49f6-a8ad-084561c65b01",
   "metadata": {},
   "outputs": [],
   "source": [
    "from sklearn.naive_bayes import MultinomialNB\n",
    "# 특성이 범주형이면 멀티노미얼 연속형이면 가우시안"
   ]
  },
  {
   "cell_type": "code",
   "execution_count": 116,
   "id": "a8797afb-70a9-43d0-8bc7-e8158d021c40",
   "metadata": {},
   "outputs": [
    {
     "data": {
      "text/plain": [
       "MultinomialNB()"
      ]
     },
     "execution_count": 116,
     "metadata": {},
     "output_type": "execute_result"
    }
   ],
   "source": [
    "clf = MultinomialNB()\n",
    "clf.fit(X_train, y_train)"
   ]
  },
  {
   "cell_type": "code",
   "execution_count": 117,
   "id": "23c989ba-4093-473d-9e80-50091eb9f847",
   "metadata": {},
   "outputs": [],
   "source": [
    "y_pred =clf.predict(X_test)"
   ]
  },
  {
   "cell_type": "code",
   "execution_count": 118,
   "id": "dc49f479-a5d3-49d4-ae5c-9cc204331a0c",
   "metadata": {},
   "outputs": [
    {
     "data": {
      "text/plain": [
       "0.9808612440191388"
      ]
     },
     "execution_count": 118,
     "metadata": {},
     "output_type": "execute_result"
    }
   ],
   "source": [
    "from sklearn.metrics import accuracy_score,precision_score\n",
    "\n",
    "accuracy_score(y_test, y_pred)"
   ]
  },
  {
   "cell_type": "code",
   "execution_count": 119,
   "id": "41f5783f-3e8c-42bc-a4fd-7b8308bec609",
   "metadata": {},
   "outputs": [
    {
     "data": {
      "text/plain": [
       "0.9033613445378151"
      ]
     },
     "execution_count": 119,
     "metadata": {},
     "output_type": "execute_result"
    }
   ],
   "source": [
    "precision_score(y_test, y_pred)"
   ]
  },
  {
   "cell_type": "markdown",
   "id": "0c27f685-357a-493f-9fb3-524b41f83cea",
   "metadata": {},
   "source": [
    "## SVC"
   ]
  },
  {
   "cell_type": "code",
   "execution_count": 120,
   "id": "e2565682-3696-48d5-9529-7e800c9f06ac",
   "metadata": {},
   "outputs": [
    {
     "data": {
      "text/plain": [
       "0.9766746411483254"
      ]
     },
     "execution_count": 120,
     "metadata": {},
     "output_type": "execute_result"
    }
   ],
   "source": [
    "from sklearn.svm import SVC\n",
    "clf = SVC()\n",
    "\n",
    "clf.fit(X_train, y_train)\n",
    "y_pred = clf.predict(X_test)\n",
    "\n",
    "accuracy_score(y_test, y_pred)"
   ]
  },
  {
   "cell_type": "code",
   "execution_count": 93,
   "id": "18638bcb-64e6-4aa5-8256-d9c9c7a5896a",
   "metadata": {},
   "outputs": [
    {
     "data": {
      "text/plain": [
       "1.0"
      ]
     },
     "execution_count": 93,
     "metadata": {},
     "output_type": "execute_result"
    }
   ],
   "source": [
    "precision_score(y_test, y_pred)"
   ]
  },
  {
   "cell_type": "code",
   "execution_count": null,
   "id": "5a75fc06-514e-4a62-9188-a110719e8ae6",
   "metadata": {},
   "outputs": [],
   "source": []
  }
 ],
 "metadata": {
  "kernelspec": {
   "display_name": "myml",
   "language": "python",
   "name": "myml"
  },
  "language_info": {
   "codemirror_mode": {
    "name": "ipython",
    "version": 3
   },
   "file_extension": ".py",
   "mimetype": "text/x-python",
   "name": "python",
   "nbconvert_exporter": "python",
   "pygments_lexer": "ipython3",
   "version": "3.8.0"
  }
 },
 "nbformat": 4,
 "nbformat_minor": 5
}
