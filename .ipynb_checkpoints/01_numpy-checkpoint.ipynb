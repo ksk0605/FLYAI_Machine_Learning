{
 "cells": [
  {
   "cell_type": "markdown",
   "id": "26f8dfab-da94-4555-b47d-741d1a101626",
   "metadata": {},
   "source": [
    "# Numpy Tutorial\n",
    "-------------------------\n",
    "* [넘파이 사이트](https://numpy.org/)"
   ]
  },
  {
   "cell_type": "code",
   "execution_count": 2,
   "id": "56916d5f-9c29-4bf7-b59b-24e23d2ed1f9",
   "metadata": {},
   "outputs": [],
   "source": [
    "score = [12,34,56]"
   ]
  },
  {
   "cell_type": "code",
   "execution_count": 3,
   "id": "b43451c6-a732-47b1-85cb-6c417217052c",
   "metadata": {},
   "outputs": [],
   "source": [
    "for i in range(3):\n",
    "    score[i]+=3"
   ]
  },
  {
   "cell_type": "code",
   "execution_count": 4,
   "id": "532d48de-4984-4339-8298-8a850bdf9567",
   "metadata": {},
   "outputs": [
    {
     "name": "stdout",
     "output_type": "stream",
     "text": [
      "[15, 37, 59]\n"
     ]
    }
   ],
   "source": [
    "print(score)"
   ]
  },
  {
   "cell_type": "code",
   "execution_count": 5,
   "id": "df396ead-3ed5-4b8f-a27f-794487910b63",
   "metadata": {},
   "outputs": [
    {
     "name": "stdout",
     "output_type": "stream",
     "text": [
      "[18, 40, 62]\n"
     ]
    }
   ],
   "source": [
    "for i,s in enumerate(score): # 값과 인덱스를 같이 주는 함수\n",
    "    score[i] = s+3\n",
    "print(score)"
   ]
  },
  {
   "cell_type": "code",
   "execution_count": 6,
   "id": "0c369355-f4fe-41f5-b33c-ade8518b3c87",
   "metadata": {},
   "outputs": [],
   "source": [
    "score = list(map(lambda x:x+3, score))"
   ]
  },
  {
   "cell_type": "code",
   "execution_count": 7,
   "id": "7fd4874b-5a71-4a19-9ef8-0dae2ea10c4e",
   "metadata": {},
   "outputs": [
    {
     "name": "stdout",
     "output_type": "stream",
     "text": [
      "[21, 43, 65]\n"
     ]
    }
   ],
   "source": [
    "print(score)"
   ]
  },
  {
   "cell_type": "code",
   "execution_count": 8,
   "id": "209be9b8-5e12-4e39-8089-96d914981704",
   "metadata": {
    "tags": []
   },
   "outputs": [
    {
     "data": {
      "text/plain": [
       "'1.23.1'"
      ]
     },
     "execution_count": 8,
     "metadata": {},
     "output_type": "execute_result"
    }
   ],
   "source": [
    "import numpy as np\n",
    "\n",
    "np.__version__ #version 볼 수 있는 방법 (습관들이기) "
   ]
  },
  {
   "cell_type": "markdown",
   "id": "070acd8c-e8d3-419b-8fe8-3c88164611c4",
   "metadata": {},
   "source": [
    "![](https://editor.analyticsvidhya.com/uploads/78382numpy_arrays.png)"
   ]
  },
  {
   "cell_type": "markdown",
   "id": "d63601f4-9870-4bc7-99e2-96c2f637e948",
   "metadata": {},
   "source": [
    "* 머신러닝 알고리즘은 낮은 차원부터 높은 차원까지 알고리즘을 검증해 나간다\n",
    "* shape를 항상 확인하며 작업하는 습관이 좋다 + type()\n",
    "* 위의 자료구조들은 모두 tensor라고 부른다"
   ]
  },
  {
   "cell_type": "markdown",
   "id": "26c5b09f-7680-4133-9539-d1f5a774ef99",
   "metadata": {},
   "source": [
    "## ndarray 클래스 "
   ]
  },
  {
   "cell_type": "code",
   "execution_count": 9,
   "id": "fbaa9f7d-6b6f-45ab-a820-f69dd8816eba",
   "metadata": {},
   "outputs": [
    {
     "data": {
      "text/plain": [
       "array([23, 45, 56, 76])"
      ]
     },
     "execution_count": 9,
     "metadata": {},
     "output_type": "execute_result"
    }
   ],
   "source": [
    "xarr = np.array([23,45,56,76])\n",
    "xarr"
   ]
  },
  {
   "cell_type": "code",
   "execution_count": 10,
   "id": "3ea5e1ae-28f1-471e-bc29-b39df842fb48",
   "metadata": {},
   "outputs": [
    {
     "data": {
      "text/plain": [
       "numpy.ndarray"
      ]
     },
     "execution_count": 10,
     "metadata": {},
     "output_type": "execute_result"
    }
   ],
   "source": [
    "type(xarr) #numpy.ndarray 여야만 메소드 사용가능"
   ]
  },
  {
   "cell_type": "code",
   "execution_count": 11,
   "id": "ee277c09-abda-4cd3-9bb3-f8587b1f0b40",
   "metadata": {},
   "outputs": [
    {
     "data": {
      "text/plain": [
       "(4,)"
      ]
     },
     "execution_count": 11,
     "metadata": {},
     "output_type": "execute_result"
    }
   ],
   "source": [
    "xarr.shape #1개짜리 차원"
   ]
  },
  {
   "cell_type": "code",
   "execution_count": 12,
   "id": "ee740aa2-ab7e-4302-8c19-5143cd69d86f",
   "metadata": {},
   "outputs": [
    {
     "data": {
      "text/plain": [
       "tuple"
      ]
     },
     "execution_count": 12,
     "metadata": {},
     "output_type": "execute_result"
    }
   ],
   "source": [
    "type(xarr.shape)"
   ]
  },
  {
   "cell_type": "code",
   "execution_count": 13,
   "id": "1f6d4ead-91de-4adf-ba84-41da4a7f2693",
   "metadata": {},
   "outputs": [
    {
     "data": {
      "text/plain": [
       "dtype('int32')"
      ]
     },
     "execution_count": 13,
     "metadata": {},
     "output_type": "execute_result"
    }
   ],
   "source": [
    "xarr.dtype #data type\n",
    "\n",
    "#int32, int64, float32, float64 : 주로 사용하는 data type들 "
   ]
  },
  {
   "cell_type": "code",
   "execution_count": 14,
   "id": "b69597f4-1ccf-4842-9c99-12b6ded85a65",
   "metadata": {},
   "outputs": [
    {
     "data": {
      "text/plain": [
       "4"
      ]
     },
     "execution_count": 14,
     "metadata": {},
     "output_type": "execute_result"
    }
   ],
   "source": [
    "xarr.size\n",
    "# 개수"
   ]
  },
  {
   "cell_type": "code",
   "execution_count": 15,
   "id": "00c007cd-99aa-4089-962d-1148ebde0b6b",
   "metadata": {},
   "outputs": [
    {
     "data": {
      "text/plain": [
       "4"
      ]
     },
     "execution_count": 15,
     "metadata": {},
     "output_type": "execute_result"
    }
   ],
   "source": [
    "xarr.itemsize\n",
    "#bit수"
   ]
  },
  {
   "cell_type": "code",
   "execution_count": 16,
   "id": "ed35492a-2c3c-4aad-8e41-d1ebfe725b86",
   "metadata": {},
   "outputs": [
    {
     "data": {
      "text/plain": [
       "16"
      ]
     },
     "execution_count": 16,
     "metadata": {},
     "output_type": "execute_result"
    }
   ],
   "source": [
    "xarr.size * xarr.itemsize"
   ]
  },
  {
   "cell_type": "code",
   "execution_count": 17,
   "id": "35e40e36-9201-4884-b24d-68d4bd7a11ca",
   "metadata": {},
   "outputs": [
    {
     "name": "stdout",
     "output_type": "stream",
     "text": [
      "(2, 2)\n"
     ]
    },
    {
     "data": {
      "text/plain": [
       "(3, 2, 2)"
      ]
     },
     "execution_count": 17,
     "metadata": {},
     "output_type": "execute_result"
    }
   ],
   "source": [
    "yarr = np.array([[12,34],[56,78]])\n",
    "print(yarr.shape)\n",
    "\n",
    "yarr = np.array([[[1,2],[3,4]],\n",
    "                 [[5,6],[7,8]],\n",
    "                 [[9,10],[11,12]]])\n",
    "yarr.shape"
   ]
  },
  {
   "cell_type": "code",
   "execution_count": 18,
   "id": "c1ca4c34-e6b3-48c9-8ef2-783d1eae0983",
   "metadata": {},
   "outputs": [
    {
     "name": "stdout",
     "output_type": "stream",
     "text": [
      "[[[ 1  2]\n",
      "  [ 3  4]]\n",
      "\n",
      " [[ 5  6]\n",
      "  [ 7  8]]\n",
      "\n",
      " [[ 9 10]\n",
      "  [11 12]]]\n"
     ]
    },
    {
     "data": {
      "text/plain": [
       "array([[[ 1,  2],\n",
       "        [ 3,  4]],\n",
       "\n",
       "       [[ 5,  6],\n",
       "        [ 7,  8]],\n",
       "\n",
       "       [[ 9, 10],\n",
       "        [11, 12]]])"
      ]
     },
     "execution_count": 18,
     "metadata": {},
     "output_type": "execute_result"
    }
   ],
   "source": [
    "print(yarr)\n",
    "yarr"
   ]
  },
  {
   "cell_type": "code",
   "execution_count": 19,
   "id": "caee6398-88d5-4cff-aaed-13a8f0595a9f",
   "metadata": {},
   "outputs": [
    {
     "data": {
      "text/plain": [
       "dtype('int32')"
      ]
     },
     "execution_count": 19,
     "metadata": {},
     "output_type": "execute_result"
    }
   ],
   "source": [
    "yarr.dtype"
   ]
  },
  {
   "cell_type": "code",
   "execution_count": 20,
   "id": "02fbe9af-d191-4bf1-be22-908c80fdbb87",
   "metadata": {},
   "outputs": [
    {
     "data": {
      "text/plain": [
       "12"
      ]
     },
     "execution_count": 20,
     "metadata": {},
     "output_type": "execute_result"
    }
   ],
   "source": [
    "yarr.size"
   ]
  },
  {
   "cell_type": "code",
   "execution_count": 21,
   "id": "807049c1-c2e0-419e-997f-267d8b932ccd",
   "metadata": {},
   "outputs": [
    {
     "data": {
      "text/plain": [
       "4"
      ]
     },
     "execution_count": 21,
     "metadata": {},
     "output_type": "execute_result"
    }
   ],
   "source": [
    "yarr.itemsize"
   ]
  },
  {
   "cell_type": "code",
   "execution_count": 22,
   "id": "fe6b3bfe-e9a3-457b-9739-c27a6e7ccab2",
   "metadata": {},
   "outputs": [
    {
     "data": {
      "text/plain": [
       "dtype('int32')"
      ]
     },
     "execution_count": 22,
     "metadata": {},
     "output_type": "execute_result"
    }
   ],
   "source": [
    "yarr.dtype"
   ]
  },
  {
   "cell_type": "code",
   "execution_count": 23,
   "id": "199af014-deb9-40ef-bbb6-f77ba4966b96",
   "metadata": {},
   "outputs": [
    {
     "data": {
      "text/plain": [
       "array([[[ 1.,  2.],\n",
       "        [ 3.,  4.]],\n",
       "\n",
       "       [[ 5.,  6.],\n",
       "        [ 7.,  8.]],\n",
       "\n",
       "       [[ 9., 10.],\n",
       "        [11., 12.]]], dtype=float32)"
      ]
     },
     "execution_count": 23,
     "metadata": {},
     "output_type": "execute_result"
    }
   ],
   "source": [
    "yarr.astype('float32') #yarr = yarr.astype('float32')로 명시적으로 하지 않으면"
   ]
  },
  {
   "cell_type": "code",
   "execution_count": 24,
   "id": "4fe7b21e-4993-4e80-8daa-871b6da184f0",
   "metadata": {},
   "outputs": [
    {
     "data": {
      "text/plain": [
       "dtype('int32')"
      ]
     },
     "execution_count": 24,
     "metadata": {},
     "output_type": "execute_result"
    }
   ],
   "source": [
    "yarr.dtype #원본이 바뀌지 않음"
   ]
  },
  {
   "cell_type": "code",
   "execution_count": 25,
   "id": "ad76bdb0-e3df-4df3-8e14-a27147781b89",
   "metadata": {},
   "outputs": [],
   "source": [
    "yarr = yarr.astype('float32')"
   ]
  },
  {
   "cell_type": "code",
   "execution_count": 26,
   "id": "3b616a56-667f-4e27-ad65-bf762df72b7a",
   "metadata": {},
   "outputs": [
    {
     "data": {
      "text/plain": [
       "dtype('float32')"
      ]
     },
     "execution_count": 26,
     "metadata": {},
     "output_type": "execute_result"
    }
   ],
   "source": [
    "yarr.dtype"
   ]
  },
  {
   "cell_type": "code",
   "execution_count": 27,
   "id": "ddf7f7d8-abfc-49d8-9799-10bb4c03dc00",
   "metadata": {},
   "outputs": [
    {
     "data": {
      "text/plain": [
       "dtype('float64')"
      ]
     },
     "execution_count": 27,
     "metadata": {},
     "output_type": "execute_result"
    }
   ],
   "source": [
    "xarr = np.array([23,45,56,76], dtype='float64')\n",
    "xarr.dtype\n",
    "#가져올때 바꿀 수도 있으나 먼저 읽고나서 바꿔주는 것이 가독성이 좋음"
   ]
  },
  {
   "cell_type": "code",
   "execution_count": 28,
   "id": "a64eb9af-0103-40d3-b635-7dd1d106841e",
   "metadata": {},
   "outputs": [
    {
     "data": {
      "text/plain": [
       "(3, 2, 2)"
      ]
     },
     "execution_count": 28,
     "metadata": {},
     "output_type": "execute_result"
    }
   ],
   "source": [
    "yarr = np.array([[[1,2],[3,4]],\n",
    "                 [[5,6],[7,8]],\n",
    "                 [[9,10],[11,12]]])\n",
    "yarr.shape\n",
    "#dtype, shape은 확인하는 습관이 좋음\n",
    "#shape을 맞춰줘야 기능을 사용할 수 있음"
   ]
  },
  {
   "cell_type": "code",
   "execution_count": 29,
   "id": "b5fbd685-e0d1-47d9-9a07-558d4ab607f8",
   "metadata": {},
   "outputs": [
    {
     "data": {
      "text/plain": [
       "(1, 3, 2, 2)"
      ]
     },
     "execution_count": 29,
     "metadata": {},
     "output_type": "execute_result"
    }
   ],
   "source": [
    "yarr = yarr.reshape(1, 3, 2, 2)\n",
    "yarr.shape"
   ]
  },
  {
   "cell_type": "code",
   "execution_count": 30,
   "id": "5f98d734-e19f-4abb-849f-eb8e52ba3f91",
   "metadata": {},
   "outputs": [
    {
     "data": {
      "text/plain": [
       "array([[[[ 1,  2],\n",
       "         [ 3,  4]],\n",
       "\n",
       "        [[ 5,  6],\n",
       "         [ 7,  8]],\n",
       "\n",
       "        [[ 9, 10],\n",
       "         [11, 12]]]])"
      ]
     },
     "execution_count": 30,
     "metadata": {},
     "output_type": "execute_result"
    }
   ],
   "source": [
    "yarr"
   ]
  },
  {
   "cell_type": "code",
   "execution_count": 31,
   "id": "922cb88a-6104-43a3-b29f-ed6400f8dc3d",
   "metadata": {},
   "outputs": [
    {
     "data": {
      "text/plain": [
       "(1, 3, 2, 2)"
      ]
     },
     "execution_count": 31,
     "metadata": {},
     "output_type": "execute_result"
    }
   ],
   "source": [
    "yarr = yarr.reshape(-1,3, 2, 2)\n",
    "yarr.shape"
   ]
  },
  {
   "cell_type": "code",
   "execution_count": 32,
   "id": "b9c47ee7-0289-468e-b812-2faf6e42a228",
   "metadata": {},
   "outputs": [
    {
     "data": {
      "text/plain": [
       "array([[ 1,  2,  3,  4],\n",
       "       [ 5,  6,  7,  8],\n",
       "       [ 9, 10, 11, 12]])"
      ]
     },
     "execution_count": 32,
     "metadata": {},
     "output_type": "execute_result"
    }
   ],
   "source": [
    "yarr.reshape(3,4)"
   ]
  },
  {
   "cell_type": "code",
   "execution_count": 33,
   "id": "e8b5a166-c343-4e75-a9d9-ec944727d4c3",
   "metadata": {},
   "outputs": [
    {
     "data": {
      "text/plain": [
       "array([[[ 1,  2],\n",
       "        [ 3,  4]],\n",
       "\n",
       "       [[ 5,  6],\n",
       "        [ 7,  8]],\n",
       "\n",
       "       [[ 9, 10],\n",
       "        [11, 12]]])"
      ]
     },
     "execution_count": 33,
     "metadata": {},
     "output_type": "execute_result"
    }
   ],
   "source": [
    "yarr = yarr.reshape(-1,2,2)\n",
    "# -1 내가 정해준 개수에 맞춰서 결정해줘\n",
    "yarr"
   ]
  },
  {
   "cell_type": "code",
   "execution_count": 34,
   "id": "76207d24-389d-42cc-a3ab-d2d609e7db89",
   "metadata": {},
   "outputs": [
    {
     "data": {
      "text/plain": [
       "array([ 1,  2,  3,  4,  5,  6,  7,  8,  9, 10, 11, 12])"
      ]
     },
     "execution_count": 34,
     "metadata": {},
     "output_type": "execute_result"
    }
   ],
   "source": [
    "yarr.flatten()"
   ]
  },
  {
   "cell_type": "code",
   "execution_count": 35,
   "id": "1e0cae4a-23d8-4719-a875-fda6bddf36a2",
   "metadata": {},
   "outputs": [
    {
     "data": {
      "text/plain": [
       "array([ 1,  2,  3,  4,  5,  6,  7,  8,  9, 10, 11, 12])"
      ]
     },
     "execution_count": 35,
     "metadata": {},
     "output_type": "execute_result"
    }
   ],
   "source": [
    "yarr.reshape(-1)"
   ]
  },
  {
   "cell_type": "code",
   "execution_count": 36,
   "id": "4fe1d3df-c7ba-4937-8bca-2c11b183f045",
   "metadata": {},
   "outputs": [
    {
     "data": {
      "text/plain": [
       "array([[[[ 1,  2],\n",
       "         [ 3,  4]],\n",
       "\n",
       "        [[ 5,  6],\n",
       "         [ 7,  8]],\n",
       "\n",
       "        [[ 9, 10],\n",
       "         [11, 12]]]])"
      ]
     },
     "execution_count": 36,
     "metadata": {},
     "output_type": "execute_result"
    }
   ],
   "source": [
    "yarr.reshape(-1,3,2,2)"
   ]
  },
  {
   "cell_type": "code",
   "execution_count": 37,
   "id": "59652d91-5263-4034-a019-cf62c8dcc70d",
   "metadata": {},
   "outputs": [
    {
     "data": {
      "text/plain": [
       "array([[[[ 1,  2],\n",
       "         [ 3,  4]],\n",
       "\n",
       "        [[ 5,  6],\n",
       "         [ 7,  8]],\n",
       "\n",
       "        [[ 9, 10],\n",
       "         [11, 12]]]])"
      ]
     },
     "execution_count": 37,
     "metadata": {},
     "output_type": "execute_result"
    }
   ],
   "source": [
    "yarr[np.newaxis, :] #새로운 축을 생성"
   ]
  },
  {
   "cell_type": "code",
   "execution_count": 38,
   "id": "15e9aed6-04d8-4b1d-88c1-ecf5590296ff",
   "metadata": {},
   "outputs": [
    {
     "data": {
      "text/plain": [
       "array([[[[ 1],\n",
       "         [ 2]],\n",
       "\n",
       "        [[ 3],\n",
       "         [ 4]]],\n",
       "\n",
       "\n",
       "       [[[ 5],\n",
       "         [ 6]],\n",
       "\n",
       "        [[ 7],\n",
       "         [ 8]]],\n",
       "\n",
       "\n",
       "       [[[ 9],\n",
       "         [10]],\n",
       "\n",
       "        [[11],\n",
       "         [12]]]])"
      ]
     },
     "execution_count": 38,
     "metadata": {},
     "output_type": "execute_result"
    }
   ],
   "source": [
    "yarr.reshape(3,2,2,-1)"
   ]
  },
  {
   "cell_type": "code",
   "execution_count": 39,
   "id": "e23ccf0e-5ae4-4be2-82d8-68254e856793",
   "metadata": {},
   "outputs": [
    {
     "data": {
      "text/plain": [
       "array([0, 2, 4, 6, 8])"
      ]
     },
     "execution_count": 39,
     "metadata": {},
     "output_type": "execute_result"
    }
   ],
   "source": [
    "np.arange(0,10,2).reshape(-1)"
   ]
  },
  {
   "cell_type": "markdown",
   "id": "82fc5e92-7b1a-4038-b17b-6b75c97ea6d4",
   "metadata": {},
   "source": [
    "### 데이터 시각화"
   ]
  },
  {
   "cell_type": "code",
   "execution_count": 40,
   "id": "a36298af-4e00-4d94-993c-6eba9b8318e0",
   "metadata": {},
   "outputs": [
    {
     "data": {
      "text/plain": [
       "array([ 0.        ,  1.42857143,  2.85714286,  4.28571429,  5.71428571,\n",
       "        7.14285714,  8.57142857, 10.        ])"
      ]
     },
     "execution_count": 40,
     "metadata": {},
     "output_type": "execute_result"
    }
   ],
   "source": [
    "np.linspace(0,10,8) #0,10 사이를 8개로 나눠줘"
   ]
  },
  {
   "cell_type": "code",
   "execution_count": 41,
   "id": "d0e8774f-c090-40b9-9071-f4be0b643715",
   "metadata": {},
   "outputs": [
    {
     "data": {
      "text/plain": [
       "array([[0, 0, 0],\n",
       "       [0, 0, 0]])"
      ]
     },
     "execution_count": 41,
     "metadata": {},
     "output_type": "execute_result"
    }
   ],
   "source": [
    "np.full((2,3), 0)"
   ]
  },
  {
   "cell_type": "code",
   "execution_count": 42,
   "id": "c8b04da5-3a16-4741-a347-78cf5507906d",
   "metadata": {},
   "outputs": [
    {
     "data": {
      "text/plain": [
       "array([[0., 0., 0.],\n",
       "       [0., 0., 0.]])"
      ]
     },
     "execution_count": 42,
     "metadata": {},
     "output_type": "execute_result"
    }
   ],
   "source": [
    "np.zeros((2,3))"
   ]
  },
  {
   "cell_type": "code",
   "execution_count": 43,
   "id": "51703f03-5f3e-4edc-8c2c-25ea9fdd8942",
   "metadata": {},
   "outputs": [
    {
     "data": {
      "text/plain": [
       "(3, 2, 2)"
      ]
     },
     "execution_count": 43,
     "metadata": {},
     "output_type": "execute_result"
    }
   ],
   "source": [
    "yarr.shape"
   ]
  },
  {
   "cell_type": "code",
   "execution_count": 44,
   "id": "8062de64-5612-4bcf-9ca3-af902eeff4c4",
   "metadata": {},
   "outputs": [
    {
     "data": {
      "text/plain": [
       "array([[[0, 0],\n",
       "        [0, 0]],\n",
       "\n",
       "       [[0, 0],\n",
       "        [0, 0]],\n",
       "\n",
       "       [[0, 0],\n",
       "        [0, 0]]])"
      ]
     },
     "execution_count": 44,
     "metadata": {},
     "output_type": "execute_result"
    }
   ],
   "source": [
    "np.zeros_like(yarr) #똑같은 쉐잎인데 0으로 다 채워진"
   ]
  },
  {
   "cell_type": "markdown",
   "id": "e463205a-f732-4553-9ccd-94318e70492c",
   "metadata": {},
   "source": [
    "## random"
   ]
  },
  {
   "cell_type": "code",
   "execution_count": 45,
   "id": "3b614636-6ffe-4286-9c59-3155c7c1cfe7",
   "metadata": {},
   "outputs": [
    {
     "data": {
      "text/plain": [
       "array([5.5271672 , 1.80728609, 0.274423  , 3.09459914, 3.08901619,\n",
       "       2.15275278, 1.94249735, 9.60198136, 1.35069446, 5.6487408 ])"
      ]
     },
     "execution_count": 45,
     "metadata": {},
     "output_type": "execute_result"
    }
   ],
   "source": [
    "np.random.uniform(0,10,10) #0하고 10사이에서 동일한 확률로 10개 뽑을게"
   ]
  },
  {
   "cell_type": "code",
   "execution_count": 46,
   "id": "905e465b-ff32-4ed6-b433-84c298d91ae9",
   "metadata": {},
   "outputs": [
    {
     "data": {
      "text/plain": [
       "array([ 1.14923859,  0.8291418 , -0.31553481, -0.92010958, -0.62411159,\n",
       "        0.29263351, -0.98610506,  1.68019323,  0.53265005, -0.63078811])"
      ]
     },
     "execution_count": 46,
     "metadata": {},
     "output_type": "execute_result"
    }
   ],
   "source": [
    "np.random.normal(0,1,10)#정규분포 (평균, 표준편차, 뽑을 개수) 의 확률로 뽑음"
   ]
  },
  {
   "cell_type": "code",
   "execution_count": 47,
   "id": "e777f3e8-ce96-46f0-a23b-5ad478fc4e57",
   "metadata": {
    "tags": []
   },
   "outputs": [
    {
     "data": {
      "text/plain": [
       "array([[-0.42809079,  1.20351627, -1.01938576,  1.77386493,  0.24902707],\n",
       "       [-0.45383102, -0.6080329 ,  1.11040575,  1.12577409, -0.69414336]])"
      ]
     },
     "execution_count": 47,
     "metadata": {},
     "output_type": "execute_result"
    }
   ],
   "source": [
    "np.random.randn(2,5) #표준정규분포 안에서 2,5형태로 만듦"
   ]
  },
  {
   "cell_type": "markdown",
   "id": "6fa127a8-6e16-4a6f-9c41-10b7b502a767",
   "metadata": {},
   "source": [
    "## 함수"
   ]
  },
  {
   "cell_type": "code",
   "execution_count": 48,
   "id": "9e03f5c7-239e-4c0e-aed2-cc96ae37f8b6",
   "metadata": {},
   "outputs": [
    {
     "data": {
      "text/plain": [
       "array([[ 0,  1,  2,  3],\n",
       "       [ 4,  5,  6,  7],\n",
       "       [ 8,  9, 10, 11]])"
      ]
     },
     "execution_count": 48,
     "metadata": {},
     "output_type": "execute_result"
    }
   ],
   "source": [
    "xarr = np.arange(12).reshape(3,4)\n",
    "xarr"
   ]
  },
  {
   "cell_type": "code",
   "execution_count": 52,
   "id": "baf531e8-4e23-43c1-a54d-fb72ee4b4d05",
   "metadata": {},
   "outputs": [
    {
     "data": {
      "text/plain": [
       "array([12, 15, 18, 21])"
      ]
     },
     "execution_count": 52,
     "metadata": {},
     "output_type": "execute_result"
    }
   ],
   "source": [
    "xarr.sum(axis=0) # ( ) 번째 축으로 더하기"
   ]
  },
  {
   "cell_type": "code",
   "execution_count": 53,
   "id": "ef06bc20-9d94-4513-b024-e8aa47b6bbd0",
   "metadata": {},
   "outputs": [
    {
     "data": {
      "text/plain": [
       "array([ 6, 22, 38])"
      ]
     },
     "execution_count": 53,
     "metadata": {},
     "output_type": "execute_result"
    }
   ],
   "source": [
    "xarr.sum(axis=1)"
   ]
  },
  {
   "cell_type": "code",
   "execution_count": 54,
   "id": "37ef1491-9f05-46f6-86cc-a1c917662783",
   "metadata": {},
   "outputs": [
    {
     "data": {
      "text/plain": [
       "array([ 6, 22, 38])"
      ]
     },
     "execution_count": 54,
     "metadata": {},
     "output_type": "execute_result"
    }
   ],
   "source": [
    "np.sum(xarr, axis=1)"
   ]
  },
  {
   "cell_type": "code",
   "execution_count": 56,
   "id": "23c6d8a7-4a7c-46bc-a23f-087cd60da5b4",
   "metadata": {},
   "outputs": [
    {
     "data": {
      "text/plain": [
       "array([4., 5., 6., 7.])"
      ]
     },
     "execution_count": 56,
     "metadata": {},
     "output_type": "execute_result"
    }
   ],
   "source": [
    "xarr.mean(axis=0)"
   ]
  },
  {
   "cell_type": "code",
   "execution_count": 57,
   "id": "6faca0ef-2afc-47fa-b5db-cd2fa0413537",
   "metadata": {},
   "outputs": [
    {
     "data": {
      "text/plain": [
       "array([4., 5., 6., 7.])"
      ]
     },
     "execution_count": 57,
     "metadata": {},
     "output_type": "execute_result"
    }
   ],
   "source": [
    "np.mean(xarr, axis=0)"
   ]
  },
  {
   "cell_type": "code",
   "execution_count": 58,
   "id": "91797727-eeae-49f5-8520-801b6243f523",
   "metadata": {},
   "outputs": [
    {
     "data": {
      "text/plain": [
       "array([0, 1, 2, 3])"
      ]
     },
     "execution_count": 58,
     "metadata": {},
     "output_type": "execute_result"
    }
   ],
   "source": [
    "xarr.min(axis=0)"
   ]
  },
  {
   "cell_type": "code",
   "execution_count": 59,
   "id": "bf9d4afd-858f-414c-860c-7e4764f95c4f",
   "metadata": {},
   "outputs": [
    {
     "data": {
      "text/plain": [
       "array([ 3,  7, 11])"
      ]
     },
     "execution_count": 59,
     "metadata": {},
     "output_type": "execute_result"
    }
   ],
   "source": [
    "xarr.max(axis=1)"
   ]
  },
  {
   "cell_type": "code",
   "execution_count": 61,
   "id": "f1e63faa-5e6f-44f0-8244-aa84186fa609",
   "metadata": {},
   "outputs": [
    {
     "data": {
      "text/plain": [
       "array([[ 3,  4,  5,  6],\n",
       "       [ 7,  8,  9, 10],\n",
       "       [11, 12, 13, 14]])"
      ]
     },
     "execution_count": 61,
     "metadata": {},
     "output_type": "execute_result"
    }
   ],
   "source": [
    "xarr + 3"
   ]
  },
  {
   "cell_type": "code",
   "execution_count": 62,
   "id": "5944ab78-b145-448c-be6b-607cf72293d6",
   "metadata": {},
   "outputs": [
    {
     "data": {
      "text/plain": [
       "array([[ 3,  4,  5,  6],\n",
       "       [ 7,  8,  9, 10],\n",
       "       [11, 12, 13, 14]])"
      ]
     },
     "execution_count": 62,
     "metadata": {},
     "output_type": "execute_result"
    }
   ],
   "source": [
    "xarr + [3] # broadcasting"
   ]
  },
  {
   "cell_type": "code",
   "execution_count": 65,
   "id": "f31cfa84-253e-4095-8147-e32891e9bd53",
   "metadata": {},
   "outputs": [
    {
     "data": {
      "text/plain": [
       "array([[ 3,  4,  5,  6],\n",
       "       [ 7,  8,  9, 10],\n",
       "       [11, 12, 13, 14]])"
      ]
     },
     "execution_count": 65,
     "metadata": {},
     "output_type": "execute_result"
    }
   ],
   "source": [
    "xarr + [3,3,3,3]"
   ]
  },
  {
   "cell_type": "code",
   "execution_count": 67,
   "id": "027d7f69-0433-4d0c-9511-9bfdccc740b4",
   "metadata": {},
   "outputs": [
    {
     "data": {
      "text/plain": [
       "array([[ 0,  2,  4,  6],\n",
       "       [ 8, 10, 12, 14],\n",
       "       [16, 18, 20, 22]])"
      ]
     },
     "execution_count": 67,
     "metadata": {},
     "output_type": "execute_result"
    }
   ],
   "source": [
    "xarr*2"
   ]
  },
  {
   "cell_type": "code",
   "execution_count": 70,
   "id": "ec5076ee-839e-4fdc-8570-e5aaa52a9bee",
   "metadata": {},
   "outputs": [],
   "source": [
    "x = np.array([[1,2], [3,4]]) \n",
    "y = np.array([[1,2], [3,4]])"
   ]
  },
  {
   "cell_type": "code",
   "execution_count": 71,
   "id": "5d8307bd-fd04-4974-afdb-487abbf1758b",
   "metadata": {},
   "outputs": [
    {
     "data": {
      "text/plain": [
       "array([[ 1,  4],\n",
       "       [ 9, 16]])"
      ]
     },
     "execution_count": 71,
     "metadata": {},
     "output_type": "execute_result"
    }
   ],
   "source": [
    "x * y #원소끼리 곱"
   ]
  },
  {
   "cell_type": "code",
   "execution_count": 73,
   "id": "1a1c4afa-afc9-4467-81dd-7d1cbe978b96",
   "metadata": {},
   "outputs": [
    {
     "data": {
      "text/plain": [
       "array([[ 7, 10],\n",
       "       [15, 22]])"
      ]
     },
     "execution_count": 73,
     "metadata": {},
     "output_type": "execute_result"
    }
   ],
   "source": [
    "x@y # 행렬 곱 "
   ]
  },
  {
   "cell_type": "code",
   "execution_count": 79,
   "id": "3f53d6cc-beba-4728-952e-85fe56fb25de",
   "metadata": {},
   "outputs": [],
   "source": [
    "x = np.array([1,2,3]) \n",
    "y = np.array([1,2,3])"
   ]
  },
  {
   "cell_type": "code",
   "execution_count": 80,
   "id": "92d6ede5-3b20-4505-8a42-518a93412cbc",
   "metadata": {},
   "outputs": [
    {
     "data": {
      "text/plain": [
       "14"
      ]
     },
     "execution_count": 80,
     "metadata": {},
     "output_type": "execute_result"
    }
   ],
   "source": [
    "np.dot(x,y) #같은 위치끼리 더해서 다 더함 "
   ]
  },
  {
   "cell_type": "code",
   "execution_count": 83,
   "id": "f150011c-258a-4642-be9d-8dcaf6130b5b",
   "metadata": {},
   "outputs": [
    {
     "data": {
      "text/plain": [
       "array([[ 7, 10],\n",
       "       [15, 22]])"
      ]
     },
     "execution_count": 83,
     "metadata": {},
     "output_type": "execute_result"
    }
   ],
   "source": [
    "x = np.array([[1,2], [3,4]]) \n",
    "y = np.array([[1,2], [3,4]])\n",
    "np.dot(x,y)#2차원부터는 행렬곱처럼 동작함\n",
    "# 0 부터 다차원까지 for문으로 다룰 때 편함 "
   ]
  },
  {
   "cell_type": "code",
   "execution_count": 85,
   "id": "c58f7869-8faf-45c5-85eb-3873627554a4",
   "metadata": {},
   "outputs": [
    {
     "data": {
      "text/plain": [
       "array([[ 7, 10],\n",
       "       [15, 22]])"
      ]
     },
     "execution_count": 85,
     "metadata": {},
     "output_type": "execute_result"
    }
   ],
   "source": [
    "x = np.array([[1,2], [3,4]]) \n",
    "y = np.array([[1,2], [3,4]])\n",
    "\n",
    "np.matmul(x,y) # 행렬 곱만 시행하는 함수 "
   ]
  },
  {
   "cell_type": "markdown",
   "id": "74e99d4f-0395-4db4-9158-ae1fef4cfcc2",
   "metadata": {},
   "source": [
    "### *축과 shape, random 만드는 방법기억하기"
   ]
  },
  {
   "cell_type": "code",
   "execution_count": 91,
   "id": "7d9adafe-6f7e-4074-beb4-0a6406665ff3",
   "metadata": {},
   "outputs": [
    {
     "data": {
      "text/plain": [
       "array([False,  True, False,  True])"
      ]
     },
     "execution_count": 91,
     "metadata": {},
     "output_type": "execute_result"
    }
   ],
   "source": [
    "x = np.array([1,4,2,3])\n",
    "x > 2\n",
    "#numpy의 연산은 기본적으로 원소 하나하나에 적용됨 "
   ]
  },
  {
   "cell_type": "markdown",
   "id": "6241223c-f090-4bce-9364-c8da8f2d37ea",
   "metadata": {},
   "source": [
    "### 비교연산"
   ]
  },
  {
   "cell_type": "code",
   "execution_count": 93,
   "id": "b793ce5e-a2fc-40c7-a0e1-d81ba875f729",
   "metadata": {},
   "outputs": [
    {
     "data": {
      "text/plain": [
       "numpy.ndarray"
      ]
     },
     "execution_count": 93,
     "metadata": {},
     "output_type": "execute_result"
    }
   ],
   "source": [
    "type(x > 2)"
   ]
  },
  {
   "cell_type": "code",
   "execution_count": 96,
   "id": "7a2c7ac9-fe0c-4401-b7c9-b7c31ca3c8b0",
   "metadata": {},
   "outputs": [
    {
     "data": {
      "text/plain": [
       "array([4, 3])"
      ]
     },
     "execution_count": 96,
     "metadata": {},
     "output_type": "execute_result"
    }
   ],
   "source": [
    "x[[False,  True, False,  True]] # true에 해당하는 값만 가져오기"
   ]
  },
  {
   "cell_type": "code",
   "execution_count": 103,
   "id": "24a2b295-27c4-4364-9d69-20aaa3414620",
   "metadata": {},
   "outputs": [],
   "source": [
    "x[x>2] = -1\n",
    "#원치 않는 값을 지우거나 새로운 값을 넣는 등 데이터를 손볼때"
   ]
  },
  {
   "cell_type": "code",
   "execution_count": 105,
   "id": "18ad377a-e2a6-4c54-8029-b058daa5de57",
   "metadata": {},
   "outputs": [
    {
     "data": {
      "text/plain": [
       "array([ 1, -1,  2, -1])"
      ]
     },
     "execution_count": 105,
     "metadata": {},
     "output_type": "execute_result"
    }
   ],
   "source": [
    "x"
   ]
  },
  {
   "cell_type": "markdown",
   "id": "1e8ee492-2785-4f3d-9ee8-6fdcb46c30d1",
   "metadata": {},
   "source": [
    "### array 합치기"
   ]
  },
  {
   "cell_type": "code",
   "execution_count": 123,
   "id": "21af5a08-6239-4fdf-8196-f18fd49ce2ed",
   "metadata": {},
   "outputs": [],
   "source": [
    "x = np.array([1,2,3])\n",
    "y = [4,5,6]\n",
    "z = [7,8,9]"
   ]
  },
  {
   "cell_type": "code",
   "execution_count": 118,
   "id": "9dc79a9d-2315-43ee-b144-8b26f9899bc1",
   "metadata": {},
   "outputs": [
    {
     "data": {
      "text/plain": [
       "array([1, 2, 3, 4, 5, 6])"
      ]
     },
     "execution_count": 118,
     "metadata": {},
     "output_type": "execute_result"
    }
   ],
   "source": [
    "np.concatenate((x,y),axis=0)"
   ]
  },
  {
   "cell_type": "code",
   "execution_count": 120,
   "id": "685497e2-d726-4946-914e-6db8c9f36349",
   "metadata": {},
   "outputs": [
    {
     "data": {
      "text/plain": [
       "array([[1, 2, 3],\n",
       "       [4, 5, 6]])"
      ]
     },
     "execution_count": 120,
     "metadata": {},
     "output_type": "execute_result"
    }
   ],
   "source": [
    "np.vstack((x,y))"
   ]
  },
  {
   "cell_type": "code",
   "execution_count": 122,
   "id": "7f39a47d-bcdf-4eb4-9281-0ed557959138",
   "metadata": {},
   "outputs": [
    {
     "data": {
      "text/plain": [
       "array([1, 2, 3, 4, 5, 6])"
      ]
     },
     "execution_count": 122,
     "metadata": {},
     "output_type": "execute_result"
    }
   ],
   "source": [
    "np.hstack((x,y)) # 데이터 해더를 붙일 때"
   ]
  },
  {
   "cell_type": "code",
   "execution_count": 135,
   "id": "af2888ed-bf17-4c97-807e-b8a1997c4cb1",
   "metadata": {},
   "outputs": [],
   "source": [
    "x = np.array([1,2,3,4]).reshape(2,2)\n",
    "y = np.array([4,5,6,7]).reshape(2,2)\n",
    "z = np.array([7,8,9])"
   ]
  },
  {
   "cell_type": "code",
   "execution_count": 144,
   "id": "f9209aaf-cd85-4f45-9d1d-87bce84d8bae",
   "metadata": {},
   "outputs": [
    {
     "data": {
      "text/plain": [
       "array([[1, 2, 4, 5],\n",
       "       [3, 4, 6, 7]])"
      ]
     },
     "execution_count": 144,
     "metadata": {},
     "output_type": "execute_result"
    }
   ],
   "source": [
    "np.concatenate((x,y), axis=1)"
   ]
  },
  {
   "cell_type": "code",
   "execution_count": 146,
   "id": "d60e4522-e7b9-4e47-92fb-32152c540ab4",
   "metadata": {},
   "outputs": [
    {
     "data": {
      "text/plain": [
       "[[1, 2], [3, 4]]"
      ]
     },
     "execution_count": 146,
     "metadata": {},
     "output_type": "execute_result"
    }
   ],
   "source": [
    "x = [[1,2],[3,4]]\n",
    "x"
   ]
  },
  {
   "cell_type": "code",
   "execution_count": 147,
   "id": "c9b0e1bc-314c-4208-b2ca-1b10f059f323",
   "metadata": {},
   "outputs": [
    {
     "data": {
      "text/plain": [
       "3"
      ]
     },
     "execution_count": 147,
     "metadata": {},
     "output_type": "execute_result"
    }
   ],
   "source": [
    "x[1][0]"
   ]
  },
  {
   "cell_type": "code",
   "execution_count": 164,
   "id": "c41a4832-44d9-45e2-9907-b1fea3f98915",
   "metadata": {},
   "outputs": [],
   "source": [
    "x = np.array([[1,2],[3,4]]) "
   ]
  },
  {
   "cell_type": "code",
   "execution_count": 165,
   "id": "b12c8759-4d73-4552-b764-e87c233af57f",
   "metadata": {},
   "outputs": [
    {
     "data": {
      "text/plain": [
       "3"
      ]
     },
     "execution_count": 165,
     "metadata": {},
     "output_type": "execute_result"
    }
   ],
   "source": [
    "x[1,0]\n",
    "# 일반적인 배열과 다르게 접근 가능"
   ]
  },
  {
   "cell_type": "code",
   "execution_count": 166,
   "id": "1b2c09e4-a036-466f-8e32-e573742bd413",
   "metadata": {},
   "outputs": [
    {
     "data": {
      "text/plain": [
       "array([1, 2, 3, 4, 5])"
      ]
     },
     "execution_count": 166,
     "metadata": {},
     "output_type": "execute_result"
    }
   ],
   "source": [
    "x = np.array([1,2,3,4,5])\n",
    "x"
   ]
  },
  {
   "cell_type": "code",
   "execution_count": 168,
   "id": "471adb55-13ee-43f4-847f-33af1c218484",
   "metadata": {},
   "outputs": [
    {
     "data": {
      "text/plain": [
       "(array([3, 4], dtype=int64),)"
      ]
     },
     "execution_count": 168,
     "metadata": {},
     "output_type": "execute_result"
    }
   ],
   "source": [
    "np.where(x>3) # 3보다 큰 index를 가져옴"
   ]
  },
  {
   "cell_type": "code",
   "execution_count": 170,
   "id": "0c9b8b69-7ce2-4a6a-ac3b-b44a19bb29b6",
   "metadata": {},
   "outputs": [
    {
     "data": {
      "text/plain": [
       "array([0, 0, 0, 1, 1])"
      ]
     },
     "execution_count": 170,
     "metadata": {},
     "output_type": "execute_result"
    }
   ],
   "source": [
    "np.where(x>3,1,0) #3보다 크면 1 3보다 작으면 0 출력"
   ]
  },
  {
   "cell_type": "code",
   "execution_count": 175,
   "id": "3f661938-df9f-4c0a-95cd-ca2acee18d41",
   "metadata": {},
   "outputs": [
    {
     "data": {
      "text/plain": [
       "3"
      ]
     },
     "execution_count": 175,
     "metadata": {},
     "output_type": "execute_result"
    }
   ],
   "source": [
    "x = np.array([1,2,3,4,5,6])\n",
    "x = np.where(x>3, 1, 0)\n",
    "x.sum() #3보다 큰 개 몇개인가? : 데이터 정리에 용이"
   ]
  },
  {
   "cell_type": "code",
   "execution_count": 178,
   "id": "ae34abe7-d621-4612-8be2-cfb7e315c011",
   "metadata": {},
   "outputs": [
    {
     "data": {
      "text/plain": [
       "array([[ 2.11329052, -1.20227148,  0.85439702],\n",
       "       [-1.00409111, -1.10223504, -2.05386545],\n",
       "       [ 0.46891411,  0.24928536, -0.80220826],\n",
       "       [ 0.2233654 ,  0.6560303 , -0.67231015]])"
      ]
     },
     "execution_count": 178,
     "metadata": {},
     "output_type": "execute_result"
    }
   ],
   "source": [
    "x = np.random.randn(4,3)\n",
    "x"
   ]
  },
  {
   "cell_type": "code",
   "execution_count": 180,
   "id": "cbd7eac5-183b-4d2e-820f-2cd7e7c1eb92",
   "metadata": {},
   "outputs": [
    {
     "data": {
      "text/plain": [
       "array([0, 0, 0, 1], dtype=int64)"
      ]
     },
     "execution_count": 180,
     "metadata": {},
     "output_type": "execute_result"
    }
   ],
   "source": [
    "np.argmax(x,axis=1) #같은 리스트 안에서 가장 큰 값을 꺼내는 함수"
   ]
  },
  {
   "cell_type": "code",
   "execution_count": 187,
   "id": "1b259e1f-fc61-426f-89ca-7125ade958ab",
   "metadata": {},
   "outputs": [
    {
     "data": {
      "text/plain": [
       "array([1, 2, 3, 4, 5, 6, 7])"
      ]
     },
     "execution_count": 187,
     "metadata": {},
     "output_type": "execute_result"
    }
   ],
   "source": [
    "xarr = np.array([1,2,3,4,5,6,7])\n",
    "xarr"
   ]
  },
  {
   "cell_type": "code",
   "execution_count": 188,
   "id": "a8d2af74-1e96-44c8-917a-c790163df7c6",
   "metadata": {},
   "outputs": [
    {
     "data": {
      "text/plain": [
       "array([1, 2, 3, 4, 5])"
      ]
     },
     "execution_count": 188,
     "metadata": {},
     "output_type": "execute_result"
    }
   ],
   "source": [
    "xarr[0:5]"
   ]
  },
  {
   "cell_type": "code",
   "execution_count": 189,
   "id": "aee64c99-91f6-47e7-9ec8-dae79fdbcb41",
   "metadata": {},
   "outputs": [
    {
     "data": {
      "text/plain": [
       "array([1, 2, 3, 4, 5, 6])"
      ]
     },
     "execution_count": 189,
     "metadata": {},
     "output_type": "execute_result"
    }
   ],
   "source": [
    "xarr[:-1] #데이터를 끊어줄때 많이 사용"
   ]
  },
  {
   "cell_type": "code",
   "execution_count": 190,
   "id": "55461da0-9d56-4155-99cb-816f57533feb",
   "metadata": {},
   "outputs": [
    {
     "data": {
      "text/plain": [
       "array([1, 2, 3, 4, 5, 6, 7])"
      ]
     },
     "execution_count": 190,
     "metadata": {},
     "output_type": "execute_result"
    }
   ],
   "source": [
    "xarr = np.array([1,2,3,4,5,6,7])\n",
    "xarr"
   ]
  },
  {
   "cell_type": "code",
   "execution_count": 195,
   "id": "73d14e86-dd44-443d-967a-2050804cd259",
   "metadata": {},
   "outputs": [
    {
     "data": {
      "text/plain": [
       "array([4, 5])"
      ]
     },
     "execution_count": 195,
     "metadata": {},
     "output_type": "execute_result"
    }
   ],
   "source": [
    "y = xarr[3:5]\n",
    "y"
   ]
  },
  {
   "cell_type": "code",
   "execution_count": 199,
   "id": "dfc7094c-5511-4712-9039-d7ec1595419a",
   "metadata": {},
   "outputs": [
    {
     "data": {
      "text/plain": [
       "array([-1,  5])"
      ]
     },
     "execution_count": 199,
     "metadata": {},
     "output_type": "execute_result"
    }
   ],
   "source": [
    "y[0] = -1\n",
    "y"
   ]
  },
  {
   "cell_type": "code",
   "execution_count": 201,
   "id": "b8aaf2dc-f76a-49f9-bf39-0ba5664c1801",
   "metadata": {},
   "outputs": [
    {
     "data": {
      "text/plain": [
       "array([ 1,  2,  3, -1,  5,  6,  7])"
      ]
     },
     "execution_count": 201,
     "metadata": {},
     "output_type": "execute_result"
    }
   ],
   "source": [
    "xarr #같은 레퍼런스 값을 가지고 있어서 조심해야함"
   ]
  },
  {
   "cell_type": "code",
   "execution_count": 202,
   "id": "00be24ae-2933-4bff-96d8-0bf3c8b3536b",
   "metadata": {},
   "outputs": [],
   "source": [
    "xarr = np.array([1,2,3,4,5,6,7])"
   ]
  },
  {
   "cell_type": "code",
   "execution_count": 210,
   "id": "4da083e9-6855-4707-8088-d14b314e2ae4",
   "metadata": {},
   "outputs": [],
   "source": [
    "y = xarr[3:5].copy() # 복사본의 레퍼런스 붙이기\n",
    "y[0] = -1\n",
    "#원본이 손상되지 않도록 하기 위해 copy를 해주는 것이 좋음\n",
    "#한가지 데이터로 여러 알고리즘을 돌릴때 좋음"
   ]
  },
  {
   "cell_type": "code",
   "execution_count": 211,
   "id": "c2c9eb8c-bdb6-4537-a44d-f49fe7c74f06",
   "metadata": {},
   "outputs": [
    {
     "name": "stdout",
     "output_type": "stream",
     "text": [
      "[-1  5] [1 2 3 4 5 6 7]\n"
     ]
    }
   ],
   "source": [
    "print(y, xarr)"
   ]
  },
  {
   "cell_type": "code",
   "execution_count": 221,
   "id": "f2bc8bf7-58f8-4b07-82ef-1064a9a2f276",
   "metadata": {},
   "outputs": [
    {
     "data": {
      "text/plain": [
       "array([[5.1, 3.5, 1.4, 0.2, nan],\n",
       "       [4.9, 3. , 1.4, 0.2, nan],\n",
       "       [4.7, 3.2, 1.3, 0.2, nan],\n",
       "       [4.6, 3.1, 1.5, 0.2, nan],\n",
       "       [5. , 3.6, 1.4, 0.2, nan]])"
      ]
     },
     "execution_count": 221,
     "metadata": {},
     "output_type": "execute_result"
    }
   ],
   "source": [
    "iris = np.genfromtxt('./datasets/iris.csv', delimiter=',', skip_header=True)\n",
    "iris[:5]"
   ]
  },
  {
   "cell_type": "code",
   "execution_count": 218,
   "id": "b635eb0b-f067-43fc-a063-9dadcf34ee4f",
   "metadata": {},
   "outputs": [
    {
     "data": {
      "text/plain": [
       "(150, 5)"
      ]
     },
     "execution_count": 218,
     "metadata": {},
     "output_type": "execute_result"
    }
   ],
   "source": [
    "iris.shape"
   ]
  },
  {
   "cell_type": "code",
   "execution_count": 222,
   "id": "5f5222f7-a4bf-40a4-9ef3-1f6db76ccc89",
   "metadata": {},
   "outputs": [
    {
     "data": {
      "text/plain": [
       "dtype('float64')"
      ]
     },
     "execution_count": 222,
     "metadata": {},
     "output_type": "execute_result"
    }
   ],
   "source": [
    "iris.dtype"
   ]
  },
  {
   "cell_type": "code",
   "execution_count": 227,
   "id": "1397aea7-2e3c-4ad4-af66-0eebf3d69d69",
   "metadata": {},
   "outputs": [
    {
     "data": {
      "text/plain": [
       "array([[5.1, 3.5, 1.4, 0.2],\n",
       "       [4.9, 3. , 1.4, 0.2],\n",
       "       [4.7, 3.2, 1.3, 0.2],\n",
       "       [4.6, 3.1, 1.5, 0.2],\n",
       "       [5. , 3.6, 1.4, 0.2],\n",
       "       [5.4, 3.9, 1.7, 0.4],\n",
       "       [4.6, 3.4, 1.4, 0.3],\n",
       "       [5. , 3.4, 1.5, 0.2],\n",
       "       [4.4, 2.9, 1.4, 0.2],\n",
       "       [4.9, 3.1, 1.5, 0.1],\n",
       "       [5.4, 3.7, 1.5, 0.2],\n",
       "       [4.8, 3.4, 1.6, 0.2],\n",
       "       [4.8, 3. , 1.4, 0.1],\n",
       "       [4.3, 3. , 1.1, 0.1],\n",
       "       [5.8, 4. , 1.2, 0.2],\n",
       "       [5.7, 4.4, 1.5, 0.4],\n",
       "       [5.4, 3.9, 1.3, 0.4],\n",
       "       [5.1, 3.5, 1.4, 0.3],\n",
       "       [5.7, 3.8, 1.7, 0.3],\n",
       "       [5.1, 3.8, 1.5, 0.3],\n",
       "       [5.4, 3.4, 1.7, 0.2],\n",
       "       [5.1, 3.7, 1.5, 0.4],\n",
       "       [4.6, 3.6, 1. , 0.2],\n",
       "       [5.1, 3.3, 1.7, 0.5],\n",
       "       [4.8, 3.4, 1.9, 0.2],\n",
       "       [5. , 3. , 1.6, 0.2],\n",
       "       [5. , 3.4, 1.6, 0.4],\n",
       "       [5.2, 3.5, 1.5, 0.2],\n",
       "       [5.2, 3.4, 1.4, 0.2],\n",
       "       [4.7, 3.2, 1.6, 0.2],\n",
       "       [4.8, 3.1, 1.6, 0.2],\n",
       "       [5.4, 3.4, 1.5, 0.4],\n",
       "       [5.2, 4.1, 1.5, 0.1],\n",
       "       [5.5, 4.2, 1.4, 0.2],\n",
       "       [4.9, 3.1, 1.5, 0.2],\n",
       "       [5. , 3.2, 1.2, 0.2],\n",
       "       [5.5, 3.5, 1.3, 0.2],\n",
       "       [4.9, 3.6, 1.4, 0.1],\n",
       "       [4.4, 3. , 1.3, 0.2],\n",
       "       [5.1, 3.4, 1.5, 0.2],\n",
       "       [5. , 3.5, 1.3, 0.3],\n",
       "       [4.5, 2.3, 1.3, 0.3],\n",
       "       [4.4, 3.2, 1.3, 0.2],\n",
       "       [5. , 3.5, 1.6, 0.6],\n",
       "       [5.1, 3.8, 1.9, 0.4],\n",
       "       [4.8, 3. , 1.4, 0.3],\n",
       "       [5.1, 3.8, 1.6, 0.2],\n",
       "       [4.6, 3.2, 1.4, 0.2],\n",
       "       [5.3, 3.7, 1.5, 0.2],\n",
       "       [5. , 3.3, 1.4, 0.2],\n",
       "       [7. , 3.2, 4.7, 1.4],\n",
       "       [6.4, 3.2, 4.5, 1.5],\n",
       "       [6.9, 3.1, 4.9, 1.5],\n",
       "       [5.5, 2.3, 4. , 1.3],\n",
       "       [6.5, 2.8, 4.6, 1.5],\n",
       "       [5.7, 2.8, 4.5, 1.3],\n",
       "       [6.3, 3.3, 4.7, 1.6],\n",
       "       [4.9, 2.4, 3.3, 1. ],\n",
       "       [6.6, 2.9, 4.6, 1.3],\n",
       "       [5.2, 2.7, 3.9, 1.4],\n",
       "       [5. , 2. , 3.5, 1. ],\n",
       "       [5.9, 3. , 4.2, 1.5],\n",
       "       [6. , 2.2, 4. , 1. ],\n",
       "       [6.1, 2.9, 4.7, 1.4],\n",
       "       [5.6, 2.9, 3.6, 1.3],\n",
       "       [6.7, 3.1, 4.4, 1.4],\n",
       "       [5.6, 3. , 4.5, 1.5],\n",
       "       [5.8, 2.7, 4.1, 1. ],\n",
       "       [6.2, 2.2, 4.5, 1.5],\n",
       "       [5.6, 2.5, 3.9, 1.1],\n",
       "       [5.9, 3.2, 4.8, 1.8],\n",
       "       [6.1, 2.8, 4. , 1.3],\n",
       "       [6.3, 2.5, 4.9, 1.5],\n",
       "       [6.1, 2.8, 4.7, 1.2],\n",
       "       [6.4, 2.9, 4.3, 1.3],\n",
       "       [6.6, 3. , 4.4, 1.4],\n",
       "       [6.8, 2.8, 4.8, 1.4],\n",
       "       [6.7, 3. , 5. , 1.7],\n",
       "       [6. , 2.9, 4.5, 1.5],\n",
       "       [5.7, 2.6, 3.5, 1. ],\n",
       "       [5.5, 2.4, 3.8, 1.1],\n",
       "       [5.5, 2.4, 3.7, 1. ],\n",
       "       [5.8, 2.7, 3.9, 1.2],\n",
       "       [6. , 2.7, 5.1, 1.6],\n",
       "       [5.4, 3. , 4.5, 1.5],\n",
       "       [6. , 3.4, 4.5, 1.6],\n",
       "       [6.7, 3.1, 4.7, 1.5],\n",
       "       [6.3, 2.3, 4.4, 1.3],\n",
       "       [5.6, 3. , 4.1, 1.3],\n",
       "       [5.5, 2.5, 4. , 1.3],\n",
       "       [5.5, 2.6, 4.4, 1.2],\n",
       "       [6.1, 3. , 4.6, 1.4],\n",
       "       [5.8, 2.6, 4. , 1.2],\n",
       "       [5. , 2.3, 3.3, 1. ],\n",
       "       [5.6, 2.7, 4.2, 1.3],\n",
       "       [5.7, 3. , 4.2, 1.2],\n",
       "       [5.7, 2.9, 4.2, 1.3],\n",
       "       [6.2, 2.9, 4.3, 1.3],\n",
       "       [5.1, 2.5, 3. , 1.1],\n",
       "       [5.7, 2.8, 4.1, 1.3],\n",
       "       [6.3, 3.3, 6. , 2.5],\n",
       "       [5.8, 2.7, 5.1, 1.9],\n",
       "       [7.1, 3. , 5.9, 2.1],\n",
       "       [6.3, 2.9, 5.6, 1.8],\n",
       "       [6.5, 3. , 5.8, 2.2],\n",
       "       [7.6, 3. , 6.6, 2.1],\n",
       "       [4.9, 2.5, 4.5, 1.7],\n",
       "       [7.3, 2.9, 6.3, 1.8],\n",
       "       [6.7, 2.5, 5.8, 1.8],\n",
       "       [7.2, 3.6, 6.1, 2.5],\n",
       "       [6.5, 3.2, 5.1, 2. ],\n",
       "       [6.4, 2.7, 5.3, 1.9],\n",
       "       [6.8, 3. , 5.5, 2.1],\n",
       "       [5.7, 2.5, 5. , 2. ],\n",
       "       [5.8, 2.8, 5.1, 2.4],\n",
       "       [6.4, 3.2, 5.3, 2.3],\n",
       "       [6.5, 3. , 5.5, 1.8],\n",
       "       [7.7, 3.8, 6.7, 2.2],\n",
       "       [7.7, 2.6, 6.9, 2.3],\n",
       "       [6. , 2.2, 5. , 1.5],\n",
       "       [6.9, 3.2, 5.7, 2.3],\n",
       "       [5.6, 2.8, 4.9, 2. ],\n",
       "       [7.7, 2.8, 6.7, 2. ],\n",
       "       [6.3, 2.7, 4.9, 1.8],\n",
       "       [6.7, 3.3, 5.7, 2.1],\n",
       "       [7.2, 3.2, 6. , 1.8],\n",
       "       [6.2, 2.8, 4.8, 1.8],\n",
       "       [6.1, 3. , 4.9, 1.8],\n",
       "       [6.4, 2.8, 5.6, 2.1],\n",
       "       [7.2, 3. , 5.8, 1.6],\n",
       "       [7.4, 2.8, 6.1, 1.9],\n",
       "       [7.9, 3.8, 6.4, 2. ],\n",
       "       [6.4, 2.8, 5.6, 2.2],\n",
       "       [6.3, 2.8, 5.1, 1.5],\n",
       "       [6.1, 2.6, 5.6, 1.4],\n",
       "       [7.7, 3. , 6.1, 2.3],\n",
       "       [6.3, 3.4, 5.6, 2.4],\n",
       "       [6.4, 3.1, 5.5, 1.8],\n",
       "       [6. , 3. , 4.8, 1.8],\n",
       "       [6.9, 3.1, 5.4, 2.1],\n",
       "       [6.7, 3.1, 5.6, 2.4],\n",
       "       [6.9, 3.1, 5.1, 2.3],\n",
       "       [5.8, 2.7, 5.1, 1.9],\n",
       "       [6.8, 3.2, 5.9, 2.3],\n",
       "       [6.7, 3.3, 5.7, 2.5],\n",
       "       [6.7, 3. , 5.2, 2.3],\n",
       "       [6.3, 2.5, 5. , 1.9],\n",
       "       [6.5, 3. , 5.2, 2. ],\n",
       "       [6.2, 3.4, 5.4, 2.3],\n",
       "       [5.9, 3. , 5.1, 1.8]])"
      ]
     },
     "execution_count": 227,
     "metadata": {},
     "output_type": "execute_result"
    }
   ],
   "source": [
    "xarr = iris[:,:-1] #[row조건, col조건]\n",
    "xarr"
   ]
  },
  {
   "cell_type": "code",
   "execution_count": 229,
   "id": "5c05d93a-8976-4ac1-88d0-3b6c5b0e50a9",
   "metadata": {},
   "outputs": [
    {
     "data": {
      "text/plain": [
       "array([[5.1, 3.5, 1.4, 0.2],\n",
       "       [4.9, 3. , 1.4, 0.2],\n",
       "       [4.7, 3.2, 1.3, 0.2],\n",
       "       [4.6, 3.1, 1.5, 0.2],\n",
       "       [5. , 3.6, 1.4, 0.2]])"
      ]
     },
     "execution_count": 229,
     "metadata": {},
     "output_type": "execute_result"
    }
   ],
   "source": [
    "xarr[:5]"
   ]
  },
  {
   "cell_type": "code",
   "execution_count": 236,
   "id": "4ecfdbca-e4d8-4d4c-a3be-7f264831df17",
   "metadata": {},
   "outputs": [
    {
     "data": {
      "text/plain": [
       "5.843333333333334"
      ]
     },
     "execution_count": 236,
     "metadata": {},
     "output_type": "execute_result"
    }
   ],
   "source": [
    "xarr[:,0].mean() #1번 col의 평균"
   ]
  },
  {
   "cell_type": "code",
   "execution_count": 238,
   "id": "668dc876-eebf-4537-a38e-6362b9a95b18",
   "metadata": {},
   "outputs": [
    {
     "data": {
      "text/plain": [
       "array([5.1, 4.9, 4.7, 4.6, 5. , 5.4, 4.6, 5. , 4.4, 4.9, 5.4, 4.8, 4.8,\n",
       "       4.3, 5.8, 5.7, 5.4, 5.1, 5.7, 5.1, 5.4, 5.1, 4.6, 5.1, 4.8, 5. ,\n",
       "       5. , 5.2, 5.2, 4.7, 4.8, 5.4, 5.2, 5.5, 4.9, 5. , 5.5, 4.9, 4.4,\n",
       "       5.1, 5. , 4.5, 4.4, 5. , 5.1, 4.8, 5.1, 4.6, 5.3, 5. , 7. , 6.4,\n",
       "       6.9, 5.5, 6.5, 5.7, 6.3, 4.9, 6.6, 5.2, 5. , 5.9, 6. , 6.1, 5.6,\n",
       "       6.7, 5.6, 5.8, 6.2, 5.6, 5.9, 6.1, 6.3, 6.1, 6.4, 6.6, 6.8, 6.7,\n",
       "       6. , 5.7, 5.5, 5.5, 5.8, 6. , 5.4, 6. , 6.7, 6.3, 5.6, 5.5, 5.5,\n",
       "       6.1, 5.8, 5. , 5.6, 5.7, 5.7, 6.2, 5.1, 5.7, 6.3, 5.8, 7.1, 6.3,\n",
       "       6.5, 7.6, 4.9, 7.3, 6.7, 7.2, 6.5, 6.4, 6.8, 5.7, 5.8, 6.4, 6.5,\n",
       "       7.7, 7.7, 6. , 6.9, 5.6, 7.7, 6.3, 6.7, 7.2, 6.2, 6.1, 6.4, 7.2,\n",
       "       7.4, 7.9, 6.4, 6.3, 6.1, 7.7, 6.3, 6.4, 6. , 6.9, 6.7, 6.9, 5.8,\n",
       "       6.8, 6.7, 6.7, 6.3, 6.5, 6.2, 5.9])"
      ]
     },
     "execution_count": 238,
     "metadata": {},
     "output_type": "execute_result"
    }
   ],
   "source": [
    "xarr[:,0]"
   ]
  },
  {
   "cell_type": "code",
   "execution_count": 246,
   "id": "023ef4c5-b551-4d75-9559-c00e1a1d520a",
   "metadata": {},
   "outputs": [],
   "source": [
    "m = 5.8\n",
    "x = xarr[xarr[:,0]>m,:]\n",
    "y = xarr[xarr[:,0]<=m,:]"
   ]
  },
  {
   "cell_type": "code",
   "execution_count": 247,
   "id": "693bfc12-d136-4718-b1c4-60e518ec647c",
   "metadata": {},
   "outputs": [
    {
     "data": {
      "text/plain": [
       "5.8"
      ]
     },
     "execution_count": 247,
     "metadata": {},
     "output_type": "execute_result"
    }
   ],
   "source": [
    "y[:,0].max()"
   ]
  },
  {
   "cell_type": "code",
   "execution_count": 248,
   "id": "5115b673-c13e-4760-9c52-96336d6ec401",
   "metadata": {},
   "outputs": [
    {
     "data": {
      "text/plain": [
       "(70, 4)"
      ]
     },
     "execution_count": 248,
     "metadata": {},
     "output_type": "execute_result"
    }
   ],
   "source": [
    "x.shape"
   ]
  },
  {
   "cell_type": "code",
   "execution_count": 249,
   "id": "4871c9ca-c0f7-4a00-8c92-12edcd85b7ea",
   "metadata": {},
   "outputs": [
    {
     "data": {
      "text/plain": [
       "(80, 4)"
      ]
     },
     "execution_count": 249,
     "metadata": {},
     "output_type": "execute_result"
    }
   ],
   "source": [
    "y.shape"
   ]
  },
  {
   "cell_type": "code",
   "execution_count": 250,
   "id": "045ca3e3-2ece-4ffe-8c8a-7d2ecce460d1",
   "metadata": {},
   "outputs": [],
   "source": [
    "np.savez('my_iris.npz', my_x=x, my_y=y) # file name, key\n",
    "# 바이너리 형태로 압축해서 파일을 저장하기"
   ]
  },
  {
   "cell_type": "code",
   "execution_count": 251,
   "id": "7c0db300-6188-4c77-b828-dbe51ec0d647",
   "metadata": {},
   "outputs": [
    {
     "name": "stdout",
     "output_type": "stream",
     "text": [
      " C 드라이브의 볼륨에는 이름이 없습니다.\n",
      " 볼륨 일련 번호: 36AF-C0CC\n",
      "\n",
      " C:\\workspace\\myml 디렉터리\n",
      "\n",
      "2022-07-14  오후 02:47    <DIR>          .\n",
      "2022-07-14  오전 10:01    <DIR>          ..\n",
      "2022-07-14  오후 12:03    <DIR>          .ipynb_checkpoints\n",
      "2022-07-14  오후 02:47            54,343 01_numpy.ipynb\n",
      "2022-07-14  오후 02:23    <DIR>          datasets\n",
      "2022-07-14  오후 02:47             5,302 my_iris.npz\n",
      "               2개 파일              59,645 바이트\n",
      "               4개 디렉터리  343,796,592,640 바이트 남음\n"
     ]
    }
   ],
   "source": [
    "!dir"
   ]
  },
  {
   "cell_type": "code",
   "execution_count": 253,
   "id": "b1bae859-ff47-4cbf-9280-57b7b9cf141e",
   "metadata": {},
   "outputs": [
    {
     "data": {
      "text/plain": [
       "numpy.lib.npyio.NpzFile"
      ]
     },
     "execution_count": 253,
     "metadata": {},
     "output_type": "execute_result"
    }
   ],
   "source": [
    "my_iris = np.load('my_iris.npz') #파일 불러오기\n",
    "type(my_iris)"
   ]
  },
  {
   "cell_type": "code",
   "execution_count": 256,
   "id": "680ac4e2-64ba-4b49-b832-7d22fb6b1675",
   "metadata": {},
   "outputs": [
    {
     "data": {
      "text/plain": [
       "array([[7. , 3.2, 4.7, 1.4],\n",
       "       [6.4, 3.2, 4.5, 1.5],\n",
       "       [6.9, 3.1, 4.9, 1.5],\n",
       "       [6.5, 2.8, 4.6, 1.5],\n",
       "       [6.3, 3.3, 4.7, 1.6],\n",
       "       [6.6, 2.9, 4.6, 1.3],\n",
       "       [5.9, 3. , 4.2, 1.5],\n",
       "       [6. , 2.2, 4. , 1. ],\n",
       "       [6.1, 2.9, 4.7, 1.4],\n",
       "       [6.7, 3.1, 4.4, 1.4],\n",
       "       [6.2, 2.2, 4.5, 1.5],\n",
       "       [5.9, 3.2, 4.8, 1.8],\n",
       "       [6.1, 2.8, 4. , 1.3],\n",
       "       [6.3, 2.5, 4.9, 1.5],\n",
       "       [6.1, 2.8, 4.7, 1.2],\n",
       "       [6.4, 2.9, 4.3, 1.3],\n",
       "       [6.6, 3. , 4.4, 1.4],\n",
       "       [6.8, 2.8, 4.8, 1.4],\n",
       "       [6.7, 3. , 5. , 1.7],\n",
       "       [6. , 2.9, 4.5, 1.5],\n",
       "       [6. , 2.7, 5.1, 1.6],\n",
       "       [6. , 3.4, 4.5, 1.6],\n",
       "       [6.7, 3.1, 4.7, 1.5],\n",
       "       [6.3, 2.3, 4.4, 1.3],\n",
       "       [6.1, 3. , 4.6, 1.4],\n",
       "       [6.2, 2.9, 4.3, 1.3],\n",
       "       [6.3, 3.3, 6. , 2.5],\n",
       "       [7.1, 3. , 5.9, 2.1],\n",
       "       [6.3, 2.9, 5.6, 1.8],\n",
       "       [6.5, 3. , 5.8, 2.2],\n",
       "       [7.6, 3. , 6.6, 2.1],\n",
       "       [7.3, 2.9, 6.3, 1.8],\n",
       "       [6.7, 2.5, 5.8, 1.8],\n",
       "       [7.2, 3.6, 6.1, 2.5],\n",
       "       [6.5, 3.2, 5.1, 2. ],\n",
       "       [6.4, 2.7, 5.3, 1.9],\n",
       "       [6.8, 3. , 5.5, 2.1],\n",
       "       [6.4, 3.2, 5.3, 2.3],\n",
       "       [6.5, 3. , 5.5, 1.8],\n",
       "       [7.7, 3.8, 6.7, 2.2],\n",
       "       [7.7, 2.6, 6.9, 2.3],\n",
       "       [6. , 2.2, 5. , 1.5],\n",
       "       [6.9, 3.2, 5.7, 2.3],\n",
       "       [7.7, 2.8, 6.7, 2. ],\n",
       "       [6.3, 2.7, 4.9, 1.8],\n",
       "       [6.7, 3.3, 5.7, 2.1],\n",
       "       [7.2, 3.2, 6. , 1.8],\n",
       "       [6.2, 2.8, 4.8, 1.8],\n",
       "       [6.1, 3. , 4.9, 1.8],\n",
       "       [6.4, 2.8, 5.6, 2.1],\n",
       "       [7.2, 3. , 5.8, 1.6],\n",
       "       [7.4, 2.8, 6.1, 1.9],\n",
       "       [7.9, 3.8, 6.4, 2. ],\n",
       "       [6.4, 2.8, 5.6, 2.2],\n",
       "       [6.3, 2.8, 5.1, 1.5],\n",
       "       [6.1, 2.6, 5.6, 1.4],\n",
       "       [7.7, 3. , 6.1, 2.3],\n",
       "       [6.3, 3.4, 5.6, 2.4],\n",
       "       [6.4, 3.1, 5.5, 1.8],\n",
       "       [6. , 3. , 4.8, 1.8],\n",
       "       [6.9, 3.1, 5.4, 2.1],\n",
       "       [6.7, 3.1, 5.6, 2.4],\n",
       "       [6.9, 3.1, 5.1, 2.3],\n",
       "       [6.8, 3.2, 5.9, 2.3],\n",
       "       [6.7, 3.3, 5.7, 2.5],\n",
       "       [6.7, 3. , 5.2, 2.3],\n",
       "       [6.3, 2.5, 5. , 1.9],\n",
       "       [6.5, 3. , 5.2, 2. ],\n",
       "       [6.2, 3.4, 5.4, 2.3],\n",
       "       [5.9, 3. , 5.1, 1.8]])"
      ]
     },
     "execution_count": 256,
     "metadata": {},
     "output_type": "execute_result"
    }
   ],
   "source": [
    "xarr = my_iris['my_x'] # key 값을 통해 불러올 수 있음 \n",
    "xarr"
   ]
  },
  {
   "cell_type": "code",
   "execution_count": null,
   "id": "a83be857-85b2-4bc5-b5ce-19ee6c3d4f6a",
   "metadata": {},
   "outputs": [],
   "source": []
  }
 ],
 "metadata": {
  "kernelspec": {
   "display_name": "myml",
   "language": "python",
   "name": "myml"
  },
  "language_info": {
   "codemirror_mode": {
    "name": "ipython",
    "version": 3
   },
   "file_extension": ".py",
   "mimetype": "text/x-python",
   "name": "python",
   "nbconvert_exporter": "python",
   "pygments_lexer": "ipython3",
   "version": "3.8.0"
  }
 },
 "nbformat": 4,
 "nbformat_minor": 5
}
