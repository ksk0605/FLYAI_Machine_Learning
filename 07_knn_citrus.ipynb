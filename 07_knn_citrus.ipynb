{
 "cells": [
  {
   "cell_type": "markdown",
   "id": "7dd23777-0c12-4f8f-a0e3-54bbb9e6d1e2",
   "metadata": {},
   "source": [
    "# KNN\n",
    "---"
   ]
  },
  {
   "cell_type": "code",
   "execution_count": 233,
   "id": "dffa736e-3f99-4fdb-9324-10a8bfb2e50a",
   "metadata": {},
   "outputs": [
    {
     "data": {
      "text/plain": [
       "'1.0.2'"
      ]
     },
     "execution_count": 233,
     "metadata": {},
     "output_type": "execute_result"
    }
   ],
   "source": [
    "import sklearn\n",
    "sklearn.__version__"
   ]
  },
  {
   "cell_type": "code",
   "execution_count": 234,
   "id": "6cc5e268-f1df-42ce-b47d-865834bbaef7",
   "metadata": {},
   "outputs": [],
   "source": [
    "import numpy as np\n",
    "import pandas as pd\n",
    "import matplotlib.pyplot as plt\n",
    "import seaborn as sns"
   ]
  },
  {
   "cell_type": "markdown",
   "id": "9073d739-5daf-4beb-8c1c-705093e46812",
   "metadata": {},
   "source": [
    "## 데이터 읽기"
   ]
  },
  {
   "cell_type": "code",
   "execution_count": 235,
   "id": "946ec49b-cd58-44da-8694-874aac0f0185",
   "metadata": {},
   "outputs": [
    {
     "data": {
      "text/plain": [
       "(10000, 6)"
      ]
     },
     "execution_count": 235,
     "metadata": {},
     "output_type": "execute_result"
    }
   ],
   "source": [
    "citrus = pd.read_csv('./datasets/citrus.csv')\n",
    "citrus.shape"
   ]
  },
  {
   "cell_type": "code",
   "execution_count": 236,
   "id": "193625e6-bdae-435b-8103-7d50072fb124",
   "metadata": {},
   "outputs": [
    {
     "data": {
      "text/html": [
       "<div>\n",
       "<style scoped>\n",
       "    .dataframe tbody tr th:only-of-type {\n",
       "        vertical-align: middle;\n",
       "    }\n",
       "\n",
       "    .dataframe tbody tr th {\n",
       "        vertical-align: top;\n",
       "    }\n",
       "\n",
       "    .dataframe thead th {\n",
       "        text-align: right;\n",
       "    }\n",
       "</style>\n",
       "<table border=\"1\" class=\"dataframe\">\n",
       "  <thead>\n",
       "    <tr style=\"text-align: right;\">\n",
       "      <th></th>\n",
       "      <th>name</th>\n",
       "      <th>diameter</th>\n",
       "      <th>weight</th>\n",
       "      <th>red</th>\n",
       "      <th>green</th>\n",
       "      <th>blue</th>\n",
       "    </tr>\n",
       "  </thead>\n",
       "  <tbody>\n",
       "    <tr>\n",
       "      <th>0</th>\n",
       "      <td>orange</td>\n",
       "      <td>2.96</td>\n",
       "      <td>86.76</td>\n",
       "      <td>172</td>\n",
       "      <td>85</td>\n",
       "      <td>2</td>\n",
       "    </tr>\n",
       "    <tr>\n",
       "      <th>1</th>\n",
       "      <td>orange</td>\n",
       "      <td>3.91</td>\n",
       "      <td>88.05</td>\n",
       "      <td>166</td>\n",
       "      <td>78</td>\n",
       "      <td>3</td>\n",
       "    </tr>\n",
       "    <tr>\n",
       "      <th>2</th>\n",
       "      <td>orange</td>\n",
       "      <td>4.42</td>\n",
       "      <td>95.17</td>\n",
       "      <td>156</td>\n",
       "      <td>81</td>\n",
       "      <td>2</td>\n",
       "    </tr>\n",
       "    <tr>\n",
       "      <th>3</th>\n",
       "      <td>orange</td>\n",
       "      <td>4.47</td>\n",
       "      <td>95.60</td>\n",
       "      <td>163</td>\n",
       "      <td>81</td>\n",
       "      <td>4</td>\n",
       "    </tr>\n",
       "    <tr>\n",
       "      <th>4</th>\n",
       "      <td>orange</td>\n",
       "      <td>4.48</td>\n",
       "      <td>95.76</td>\n",
       "      <td>161</td>\n",
       "      <td>72</td>\n",
       "      <td>9</td>\n",
       "    </tr>\n",
       "  </tbody>\n",
       "</table>\n",
       "</div>"
      ],
      "text/plain": [
       "     name  diameter  weight  red  green  blue\n",
       "0  orange      2.96   86.76  172     85     2\n",
       "1  orange      3.91   88.05  166     78     3\n",
       "2  orange      4.42   95.17  156     81     2\n",
       "3  orange      4.47   95.60  163     81     4\n",
       "4  orange      4.48   95.76  161     72     9"
      ]
     },
     "execution_count": 236,
     "metadata": {},
     "output_type": "execute_result"
    }
   ],
   "source": [
    "citrus.head()"
   ]
  },
  {
   "cell_type": "code",
   "execution_count": 237,
   "id": "6c00bc5b-aee8-406b-8e06-265b57403572",
   "metadata": {},
   "outputs": [
    {
     "data": {
      "text/plain": [
       "array(['orange', 'grapefruit'], dtype=object)"
      ]
     },
     "execution_count": 237,
     "metadata": {},
     "output_type": "execute_result"
    }
   ],
   "source": [
    "citrus['name'].unique()"
   ]
  },
  {
   "cell_type": "code",
   "execution_count": 238,
   "id": "7c92a3d1-4c82-4f00-b23a-ff17fd842839",
   "metadata": {},
   "outputs": [
    {
     "name": "stdout",
     "output_type": "stream",
     "text": [
      "<class 'pandas.core.frame.DataFrame'>\n",
      "RangeIndex: 10000 entries, 0 to 9999\n",
      "Data columns (total 6 columns):\n",
      " #   Column    Non-Null Count  Dtype  \n",
      "---  ------    --------------  -----  \n",
      " 0   name      10000 non-null  object \n",
      " 1   diameter  10000 non-null  float64\n",
      " 2   weight    10000 non-null  float64\n",
      " 3   red       10000 non-null  int64  \n",
      " 4   green     10000 non-null  int64  \n",
      " 5   blue      10000 non-null  int64  \n",
      "dtypes: float64(2), int64(3), object(1)\n",
      "memory usage: 468.9+ KB\n"
     ]
    }
   ],
   "source": [
    "citrus.info()"
   ]
  },
  {
   "cell_type": "code",
   "execution_count": 239,
   "id": "edf20e49-cca6-48d4-b978-6247debfe91b",
   "metadata": {},
   "outputs": [
    {
     "data": {
      "text/plain": [
       "name        0\n",
       "diameter    0\n",
       "weight      0\n",
       "red         0\n",
       "green       0\n",
       "blue        0\n",
       "dtype: int64"
      ]
     },
     "execution_count": 239,
     "metadata": {},
     "output_type": "execute_result"
    }
   ],
   "source": [
    "citrus.isna().sum(axis=0)"
   ]
  },
  {
   "cell_type": "code",
   "execution_count": 240,
   "id": "280c7d66-5c18-454b-b295-a94f381419f9",
   "metadata": {},
   "outputs": [
    {
     "data": {
      "text/html": [
       "<div>\n",
       "<style scoped>\n",
       "    .dataframe tbody tr th:only-of-type {\n",
       "        vertical-align: middle;\n",
       "    }\n",
       "\n",
       "    .dataframe tbody tr th {\n",
       "        vertical-align: top;\n",
       "    }\n",
       "\n",
       "    .dataframe thead th {\n",
       "        text-align: right;\n",
       "    }\n",
       "</style>\n",
       "<table border=\"1\" class=\"dataframe\">\n",
       "  <thead>\n",
       "    <tr style=\"text-align: right;\">\n",
       "      <th></th>\n",
       "      <th>name</th>\n",
       "      <th>diameter</th>\n",
       "      <th>weight</th>\n",
       "      <th>red</th>\n",
       "      <th>green</th>\n",
       "      <th>blue</th>\n",
       "    </tr>\n",
       "  </thead>\n",
       "  <tbody>\n",
       "  </tbody>\n",
       "</table>\n",
       "</div>"
      ],
      "text/plain": [
       "Empty DataFrame\n",
       "Columns: [name, diameter, weight, red, green, blue]\n",
       "Index: []"
      ]
     },
     "execution_count": 240,
     "metadata": {},
     "output_type": "execute_result"
    }
   ],
   "source": [
    "citrus[citrus.duplicated()]"
   ]
  },
  {
   "cell_type": "markdown",
   "id": "f61b2174-92f9-4caf-8ed0-948e5e4f0164",
   "metadata": {},
   "source": [
    "# 몇개씩 들어있는지"
   ]
  },
  {
   "cell_type": "code",
   "execution_count": 241,
   "id": "5684e139-9a1f-4858-995d-e6e3c1b4de7c",
   "metadata": {},
   "outputs": [
    {
     "data": {
      "text/plain": [
       "orange        5000\n",
       "grapefruit    5000\n",
       "Name: name, dtype: int64"
      ]
     },
     "execution_count": 241,
     "metadata": {},
     "output_type": "execute_result"
    }
   ],
   "source": [
    "citrus['name'].value_counts()"
   ]
  },
  {
   "cell_type": "code",
   "execution_count": 242,
   "id": "775f3a56-b723-4cd2-8da3-cdc7fa82efe0",
   "metadata": {},
   "outputs": [
    {
     "data": {
      "text/plain": [
       "<seaborn.axisgrid.FacetGrid at 0x217d4a94d60>"
      ]
     },
     "execution_count": 242,
     "metadata": {},
     "output_type": "execute_result"
    },
    {
     "data": {
      "image/png": "[encoded data removed]",
      "text/plain": [
       "<Figure size 619.5x500 with 1 Axes>"
      ]
     },
     "metadata": {},
     "output_type": "display_data"
    }
   ],
   "source": [
    "sns.displot(data=citrus, x='diameter', hue='name', kind='kde')"
   ]
  },
  {
   "cell_type": "code",
   "execution_count": 243,
   "id": "1326abf1-abf3-4a4a-97ba-59057bc4c4c1",
   "metadata": {},
   "outputs": [
    {
     "data": {
      "text/plain": [
       "<seaborn.axisgrid.FacetGrid at 0x217d949a0d0>"
      ]
     },
     "execution_count": 243,
     "metadata": {},
     "output_type": "execute_result"
    },
    {
     "data": {
      "image/png": "[encoded data removed]",
      "text/plain": [
       "<Figure size 619.5x500 with 1 Axes>"
      ]
     },
     "metadata": {},
     "output_type": "display_data"
    }
   ],
   "source": [
    "sns.displot(data=citrus, x='weight', hue='name', kind='kde')"
   ]
  },
  {
   "cell_type": "markdown",
   "id": "8c41402f-2e4c-4d4e-abb6-3d6de0b426e0",
   "metadata": {},
   "source": [
    "## 데이터 전처리"
   ]
  },
  {
   "cell_type": "code",
   "execution_count": 244,
   "id": "2eca9771-1f4f-442d-ad76-57180adea7bb",
   "metadata": {},
   "outputs": [],
   "source": [
    "df = citrus.copy()"
   ]
  },
  {
   "cell_type": "code",
   "execution_count": 245,
   "id": "3e997c72-b69d-4c4d-be0b-f44494f4e154",
   "metadata": {},
   "outputs": [
    {
     "data": {
      "text/html": [
       "<div>\n",
       "<style scoped>\n",
       "    .dataframe tbody tr th:only-of-type {\n",
       "        vertical-align: middle;\n",
       "    }\n",
       "\n",
       "    .dataframe tbody tr th {\n",
       "        vertical-align: top;\n",
       "    }\n",
       "\n",
       "    .dataframe thead th {\n",
       "        text-align: right;\n",
       "    }\n",
       "</style>\n",
       "<table border=\"1\" class=\"dataframe\">\n",
       "  <thead>\n",
       "    <tr style=\"text-align: right;\">\n",
       "      <th></th>\n",
       "      <th>name</th>\n",
       "      <th>diameter</th>\n",
       "      <th>weight</th>\n",
       "      <th>red</th>\n",
       "      <th>green</th>\n",
       "      <th>blue</th>\n",
       "    </tr>\n",
       "  </thead>\n",
       "  <tbody>\n",
       "    <tr>\n",
       "      <th>0</th>\n",
       "      <td>orange</td>\n",
       "      <td>2.96</td>\n",
       "      <td>86.76</td>\n",
       "      <td>172</td>\n",
       "      <td>85</td>\n",
       "      <td>2</td>\n",
       "    </tr>\n",
       "    <tr>\n",
       "      <th>1</th>\n",
       "      <td>orange</td>\n",
       "      <td>3.91</td>\n",
       "      <td>88.05</td>\n",
       "      <td>166</td>\n",
       "      <td>78</td>\n",
       "      <td>3</td>\n",
       "    </tr>\n",
       "    <tr>\n",
       "      <th>2</th>\n",
       "      <td>orange</td>\n",
       "      <td>4.42</td>\n",
       "      <td>95.17</td>\n",
       "      <td>156</td>\n",
       "      <td>81</td>\n",
       "      <td>2</td>\n",
       "    </tr>\n",
       "    <tr>\n",
       "      <th>3</th>\n",
       "      <td>orange</td>\n",
       "      <td>4.47</td>\n",
       "      <td>95.60</td>\n",
       "      <td>163</td>\n",
       "      <td>81</td>\n",
       "      <td>4</td>\n",
       "    </tr>\n",
       "    <tr>\n",
       "      <th>4</th>\n",
       "      <td>orange</td>\n",
       "      <td>4.48</td>\n",
       "      <td>95.76</td>\n",
       "      <td>161</td>\n",
       "      <td>72</td>\n",
       "      <td>9</td>\n",
       "    </tr>\n",
       "  </tbody>\n",
       "</table>\n",
       "</div>"
      ],
      "text/plain": [
       "     name  diameter  weight  red  green  blue\n",
       "0  orange      2.96   86.76  172     85     2\n",
       "1  orange      3.91   88.05  166     78     3\n",
       "2  orange      4.42   95.17  156     81     2\n",
       "3  orange      4.47   95.60  163     81     4\n",
       "4  orange      4.48   95.76  161     72     9"
      ]
     },
     "execution_count": 245,
     "metadata": {},
     "output_type": "execute_result"
    }
   ],
   "source": [
    "df.head()"
   ]
  },
  {
   "cell_type": "markdown",
   "id": "ad24d5f9-5ec8-4c31-bcff-f062b6a7df84",
   "metadata": {},
   "source": [
    "## 레이블 인코딩"
   ]
  },
  {
   "cell_type": "code",
   "execution_count": 246,
   "id": "8464df17-4f97-4e72-b6e1-94238fdb945e",
   "metadata": {},
   "outputs": [
    {
     "data": {
      "text/html": [
       "<div>\n",
       "<style scoped>\n",
       "    .dataframe tbody tr th:only-of-type {\n",
       "        vertical-align: middle;\n",
       "    }\n",
       "\n",
       "    .dataframe tbody tr th {\n",
       "        vertical-align: top;\n",
       "    }\n",
       "\n",
       "    .dataframe thead th {\n",
       "        text-align: right;\n",
       "    }\n",
       "</style>\n",
       "<table border=\"1\" class=\"dataframe\">\n",
       "  <thead>\n",
       "    <tr style=\"text-align: right;\">\n",
       "      <th></th>\n",
       "      <th>name</th>\n",
       "      <th>diameter</th>\n",
       "      <th>weight</th>\n",
       "      <th>red</th>\n",
       "      <th>green</th>\n",
       "      <th>blue</th>\n",
       "    </tr>\n",
       "  </thead>\n",
       "  <tbody>\n",
       "    <tr>\n",
       "      <th>0</th>\n",
       "      <td>1</td>\n",
       "      <td>2.96</td>\n",
       "      <td>86.76</td>\n",
       "      <td>172</td>\n",
       "      <td>85</td>\n",
       "      <td>2</td>\n",
       "    </tr>\n",
       "    <tr>\n",
       "      <th>1</th>\n",
       "      <td>1</td>\n",
       "      <td>3.91</td>\n",
       "      <td>88.05</td>\n",
       "      <td>166</td>\n",
       "      <td>78</td>\n",
       "      <td>3</td>\n",
       "    </tr>\n",
       "    <tr>\n",
       "      <th>2</th>\n",
       "      <td>1</td>\n",
       "      <td>4.42</td>\n",
       "      <td>95.17</td>\n",
       "      <td>156</td>\n",
       "      <td>81</td>\n",
       "      <td>2</td>\n",
       "    </tr>\n",
       "    <tr>\n",
       "      <th>3</th>\n",
       "      <td>1</td>\n",
       "      <td>4.47</td>\n",
       "      <td>95.60</td>\n",
       "      <td>163</td>\n",
       "      <td>81</td>\n",
       "      <td>4</td>\n",
       "    </tr>\n",
       "    <tr>\n",
       "      <th>4</th>\n",
       "      <td>1</td>\n",
       "      <td>4.48</td>\n",
       "      <td>95.76</td>\n",
       "      <td>161</td>\n",
       "      <td>72</td>\n",
       "      <td>9</td>\n",
       "    </tr>\n",
       "  </tbody>\n",
       "</table>\n",
       "</div>"
      ],
      "text/plain": [
       "   name  diameter  weight  red  green  blue\n",
       "0     1      2.96   86.76  172     85     2\n",
       "1     1      3.91   88.05  166     78     3\n",
       "2     1      4.42   95.17  156     81     2\n",
       "3     1      4.47   95.60  163     81     4\n",
       "4     1      4.48   95.76  161     72     9"
      ]
     },
     "execution_count": 246,
     "metadata": {},
     "output_type": "execute_result"
    }
   ],
   "source": [
    "df['name'] = df['name'].map({'orange' : 1, 'grapefruit' : 0})\n",
    "df.head()"
   ]
  },
  {
   "cell_type": "code",
   "execution_count": 247,
   "id": "c4226027-b21d-4407-ba70-0060a5ca45d1",
   "metadata": {},
   "outputs": [
    {
     "data": {
      "text/html": [
       "<div>\n",
       "<style scoped>\n",
       "    .dataframe tbody tr th:only-of-type {\n",
       "        vertical-align: middle;\n",
       "    }\n",
       "\n",
       "    .dataframe tbody tr th {\n",
       "        vertical-align: top;\n",
       "    }\n",
       "\n",
       "    .dataframe thead th {\n",
       "        text-align: right;\n",
       "    }\n",
       "</style>\n",
       "<table border=\"1\" class=\"dataframe\">\n",
       "  <thead>\n",
       "    <tr style=\"text-align: right;\">\n",
       "      <th></th>\n",
       "      <th>name</th>\n",
       "      <th>diameter</th>\n",
       "      <th>weight</th>\n",
       "      <th>red</th>\n",
       "      <th>green</th>\n",
       "      <th>blue</th>\n",
       "    </tr>\n",
       "  </thead>\n",
       "  <tbody>\n",
       "    <tr>\n",
       "      <th>0</th>\n",
       "      <td>1</td>\n",
       "      <td>2.96</td>\n",
       "      <td>86.76</td>\n",
       "      <td>172</td>\n",
       "      <td>85</td>\n",
       "      <td>2</td>\n",
       "    </tr>\n",
       "    <tr>\n",
       "      <th>1</th>\n",
       "      <td>1</td>\n",
       "      <td>3.91</td>\n",
       "      <td>88.05</td>\n",
       "      <td>166</td>\n",
       "      <td>78</td>\n",
       "      <td>3</td>\n",
       "    </tr>\n",
       "    <tr>\n",
       "      <th>2</th>\n",
       "      <td>1</td>\n",
       "      <td>4.42</td>\n",
       "      <td>95.17</td>\n",
       "      <td>156</td>\n",
       "      <td>81</td>\n",
       "      <td>2</td>\n",
       "    </tr>\n",
       "    <tr>\n",
       "      <th>3</th>\n",
       "      <td>1</td>\n",
       "      <td>4.47</td>\n",
       "      <td>95.60</td>\n",
       "      <td>163</td>\n",
       "      <td>81</td>\n",
       "      <td>4</td>\n",
       "    </tr>\n",
       "    <tr>\n",
       "      <th>4</th>\n",
       "      <td>1</td>\n",
       "      <td>4.48</td>\n",
       "      <td>95.76</td>\n",
       "      <td>161</td>\n",
       "      <td>72</td>\n",
       "      <td>9</td>\n",
       "    </tr>\n",
       "  </tbody>\n",
       "</table>\n",
       "</div>"
      ],
      "text/plain": [
       "   name  diameter  weight  red  green  blue\n",
       "0     1      2.96   86.76  172     85     2\n",
       "1     1      3.91   88.05  166     78     3\n",
       "2     1      4.42   95.17  156     81     2\n",
       "3     1      4.47   95.60  163     81     4\n",
       "4     1      4.48   95.76  161     72     9"
      ]
     },
     "execution_count": 247,
     "metadata": {},
     "output_type": "execute_result"
    }
   ],
   "source": [
    "# sickit-learn\n",
    "# LableEncoding\n",
    "\n",
    "from sklearn.preprocessing import LabelEncoder\n",
    "#데이터 전처리하는게 모여있는 패키지\n",
    "\n",
    "le = LabelEncoder() #인코딩 클래스\n",
    "le.fit(df['name']) \n",
    "#data를 집어넣어서 전처리하는 단계\n",
    "# fit으로 데이터를 넘겨서 검사를 함\n",
    "# predict함수를 나중에 부름\n",
    "\n",
    "le.transform(df['name'])\n",
    "# 검사를 통해 얻은 정보로 전처리하는 단계\n",
    "#df['name'] = le.fit_transform(df['name'])와 동일\n",
    "df.head()"
   ]
  },
  {
   "cell_type": "code",
   "execution_count": 248,
   "id": "d9f25ff2-ff22-4e43-b56f-41b796c364cf",
   "metadata": {},
   "outputs": [
    {
     "data": {
      "text/plain": [
       "array([0, 1], dtype=int64)"
      ]
     },
     "execution_count": 248,
     "metadata": {},
     "output_type": "execute_result"
    }
   ],
   "source": [
    "le.classes_"
   ]
  },
  {
   "cell_type": "markdown",
   "id": "b99efe50-c17a-44f4-bd00-d52d1adacd70",
   "metadata": {},
   "source": [
    "## 데이터 분리 학습 데이터/테스트 데이터"
   ]
  },
  {
   "cell_type": "code",
   "execution_count": 249,
   "id": "bc33413f-fe3e-4d92-8902-37e7b921939c",
   "metadata": {},
   "outputs": [],
   "source": [
    "# X, Y 로 분리"
   ]
  },
  {
   "cell_type": "code",
   "execution_count": 250,
   "id": "d3770c91-aae2-4814-973d-2ec616dffd15",
   "metadata": {},
   "outputs": [
    {
     "data": {
      "text/plain": [
       "0       1\n",
       "1       1\n",
       "2       1\n",
       "3       1\n",
       "4       1\n",
       "       ..\n",
       "9995    0\n",
       "9996    0\n",
       "9997    0\n",
       "9998    0\n",
       "9999    0\n",
       "Name: name, Length: 10000, dtype: int64"
      ]
     },
     "execution_count": 250,
     "metadata": {},
     "output_type": "execute_result"
    }
   ],
   "source": [
    "X = df.iloc[:, 1:]\n",
    "y = df.iloc[:, 0]\n",
    "y"
   ]
  },
  {
   "cell_type": "code",
   "execution_count": 251,
   "id": "13c9491c-27ae-4fb7-a935-1eacde9e025d",
   "metadata": {},
   "outputs": [
    {
     "data": {
      "text/plain": [
       "(10000, 6)"
      ]
     },
     "execution_count": 251,
     "metadata": {},
     "output_type": "execute_result"
    }
   ],
   "source": [
    "df.shape"
   ]
  },
  {
   "cell_type": "code",
   "execution_count": 252,
   "id": "5b04a900-cd3c-40a2-b161-cd7b23e73272",
   "metadata": {},
   "outputs": [],
   "source": [
    "# X,y = sklearn.utils.shuffle(X, y)"
   ]
  },
  {
   "cell_type": "code",
   "execution_count": 253,
   "id": "7ce12a78-dedc-4eaa-8262-e466965fdc93",
   "metadata": {},
   "outputs": [],
   "source": [
    "# # 학습 / 테스트\n",
    "\n",
    "# # 슬라이싱 방법\n",
    "# idx = int(df.shape[0] * 0.8)\n",
    "\n",
    "# X_train = X.iloc[0:idx,:]\n",
    "# X_test = X.iloc[idx:,:]\n",
    "\n",
    "# y_train = y[:idx]\n",
    "# y_test = y[idx:]"
   ]
  },
  {
   "cell_type": "code",
   "execution_count": 254,
   "id": "68f3749b-d11e-4fc7-b74d-ac007d15707d",
   "metadata": {},
   "outputs": [],
   "source": [
    "# 일반적으로 많이 쓰는 방법\n",
    "from sklearn.model_selection import train_test_split\n",
    "\n",
    "X_train, X_test, y_train, y_test = train_test_split(X, y, test_size=0.2, random_state=2022, stratify=y, shuffle = True)\n",
    "# random = 랜덤시드\n",
    "# stratify = class 마다 개수가 상이할때 주로 사용 비슷하게 뽑으려고"
   ]
  },
  {
   "cell_type": "code",
   "execution_count": 255,
   "id": "af6342db-6563-4794-83f4-9b76a5fd5ba1",
   "metadata": {},
   "outputs": [
    {
     "data": {
      "text/plain": [
       "((8000, 5), (2000, 5))"
      ]
     },
     "execution_count": 255,
     "metadata": {},
     "output_type": "execute_result"
    }
   ],
   "source": [
    "X_train.shape, X_test.shape"
   ]
  },
  {
   "cell_type": "code",
   "execution_count": 256,
   "id": "056f17b3-7129-4ddc-abee-baf7c3211c19",
   "metadata": {},
   "outputs": [
    {
     "data": {
      "text/plain": [
       "((8000,), (2000,))"
      ]
     },
     "execution_count": 256,
     "metadata": {},
     "output_type": "execute_result"
    }
   ],
   "source": [
    "y_train.shape, y_test.shape"
   ]
  },
  {
   "cell_type": "code",
   "execution_count": 257,
   "id": "6a64a5fe-f18c-4207-bd7f-f39cc708c2a8",
   "metadata": {},
   "outputs": [
    {
     "data": {
      "text/plain": [
       "1    1000\n",
       "0    1000\n",
       "Name: name, dtype: int64"
      ]
     },
     "execution_count": 257,
     "metadata": {},
     "output_type": "execute_result"
    }
   ],
   "source": [
    "y_test.value_counts()"
   ]
  },
  {
   "cell_type": "markdown",
   "id": "d2f751ca-2179-454d-8310-fa6135d22ec2",
   "metadata": {},
   "source": [
    "## 스케일링"
   ]
  },
  {
   "cell_type": "code",
   "execution_count": 258,
   "id": "79c5d4c7-5ae6-4cd7-83f1-dbb6313d9100",
   "metadata": {},
   "outputs": [],
   "source": [
    "# # 표준화\n",
    "\n",
    "# m = X_train['diameter'].mean() # 평균\n",
    "# s = X_train['diameter'].std() # 표준편차\n",
    "\n",
    "# z = (X_train['diameter'] - m)/s # 머신러닝 표준화 공식"
   ]
  },
  {
   "cell_type": "code",
   "execution_count": 259,
   "id": "716eeedf-a379-44bc-ac42-aea0eb49c16e",
   "metadata": {},
   "outputs": [
    {
     "data": {
      "text/plain": [
       "numpy.ndarray"
      ]
     },
     "execution_count": 259,
     "metadata": {},
     "output_type": "execute_result"
    }
   ],
   "source": [
    "from sklearn.preprocessing import StandardScaler\n",
    "\n",
    "ss = StandardScaler()\n",
    "ss.fit(X_train)\n",
    "X_train_scaled = ss.transform(X_train)\n",
    "\n",
    "type(X_train_scaled)"
   ]
  },
  {
   "cell_type": "code",
   "execution_count": 260,
   "id": "6a66cf85-309c-4edb-a4c6-525107a3ff40",
   "metadata": {},
   "outputs": [
    {
     "data": {
      "text/plain": [
       "array([[-1.61852607, -1.60693378,  0.48456216,  1.45730586, -0.92140149],\n",
       "       [-0.59932084, -0.75195291, -1.42739703, -1.02134167, -0.81169288],\n",
       "       [-1.31122801, -1.31556395,  0.00657236,  0.00430558,  0.39510185],\n",
       "       [ 0.35330314,  0.32573973,  1.15374787,  1.02995284,  0.8339363 ],\n",
       "       [-2.12044623, -2.05508996, -0.18462356,  0.68807042,  0.61451907]])"
      ]
     },
     "execution_count": 260,
     "metadata": {},
     "output_type": "execute_result"
    }
   ],
   "source": [
    "X_train_scaled[:5]"
   ]
  },
  {
   "cell_type": "code",
   "execution_count": 261,
   "id": "9ac6c82a-5ac8-49c8-a657-5a0f0445fad4",
   "metadata": {},
   "outputs": [
    {
     "data": {
      "text/plain": [
       "array([1, 0, 1, ..., 0, 0, 0], dtype=int64)"
      ]
     },
     "execution_count": 261,
     "metadata": {},
     "output_type": "execute_result"
    }
   ],
   "source": [
    "y_train = y_train.to_numpy()\n",
    "# or y_train = y_train.values\n",
    "\n",
    "y_train"
   ]
  },
  {
   "cell_type": "markdown",
   "id": "9ba88503-33d8-47c2-a068-7fe27c23ee1a",
   "metadata": {},
   "source": [
    "## 모델 학습"
   ]
  },
  {
   "cell_type": "code",
   "execution_count": 262,
   "id": "9a0bd013-d211-4c70-9edd-5982680f79aa",
   "metadata": {},
   "outputs": [
    {
     "data": {
      "text/plain": [
       "KNeighborsClassifier()"
      ]
     },
     "execution_count": 262,
     "metadata": {},
     "output_type": "execute_result"
    }
   ],
   "source": [
    "from sklearn.neighbors import KNeighborsClassifier\n",
    "\n",
    "clf = KNeighborsClassifier()\n",
    "# hyper param 2개가 있음\n",
    "# default 는 정확도 92% 정도 \n",
    "\n",
    "clf.fit(X_train_scaled, y_train) # fit은 학습이기 때문에 (피쳐,정답값)을 넣어야 함"
   ]
  },
  {
   "cell_type": "code",
   "execution_count": 263,
   "id": "e60ae53e-03e1-44d8-b14f-f5b0b2e2cada",
   "metadata": {},
   "outputs": [
    {
     "data": {
      "text/plain": [
       "array([[-1.61852607, -1.60693378,  0.48456216,  1.45730586, -0.92140149],\n",
       "       [-0.59932084, -0.75195291, -1.42739703, -1.02134167, -0.81169288],\n",
       "       [-1.31122801, -1.31556395,  0.00657236,  0.00430558,  0.39510185],\n",
       "       [ 0.35330314,  0.32573973,  1.15374787,  1.02995284,  0.8339363 ],\n",
       "       [-2.12044623, -2.05508996, -0.18462356,  0.68807042,  0.61451907]])"
      ]
     },
     "execution_count": 263,
     "metadata": {},
     "output_type": "execute_result"
    }
   ],
   "source": [
    "## 테스트 \n",
    "\n",
    "X_test_scaled = ss.transform(X_test)\n",
    "X_train_scaled[:5]"
   ]
  },
  {
   "cell_type": "code",
   "execution_count": 264,
   "id": "6a1ae89a-10f6-4da2-af2c-d48c3f61c48a",
   "metadata": {},
   "outputs": [],
   "source": [
    "# 예측 y_test\n",
    "y_pred = clf.predict(X_test_scaled)"
   ]
  },
  {
   "cell_type": "code",
   "execution_count": 265,
   "id": "afdef177-8636-4f59-91d0-65bbce81fe29",
   "metadata": {},
   "outputs": [
    {
     "data": {
      "text/plain": [
       "array([1, 0, 0, 0, 1, 1, 1, 1, 1, 1], dtype=int64)"
      ]
     },
     "execution_count": 265,
     "metadata": {},
     "output_type": "execute_result"
    }
   ],
   "source": [
    "y_pred[:10]"
   ]
  },
  {
   "cell_type": "code",
   "execution_count": 266,
   "id": "8e956dc3-2ded-4a13-82bc-3297eb6dd57b",
   "metadata": {},
   "outputs": [
    {
     "data": {
      "text/plain": [
       "3477    1\n",
       "5504    0\n",
       "6735    0\n",
       "7909    0\n",
       "2079    1\n",
       "3590    1\n",
       "4532    1\n",
       "3279    1\n",
       "5549    0\n",
       "3583    1\n",
       "Name: name, dtype: int64"
      ]
     },
     "execution_count": 266,
     "metadata": {},
     "output_type": "execute_result"
    }
   ],
   "source": [
    "y_test[:10]"
   ]
  },
  {
   "cell_type": "code",
   "execution_count": 267,
   "id": "5c7fbbf7-bbd3-41e3-98aa-b5d21c5ffac2",
   "metadata": {},
   "outputs": [
    {
     "data": {
      "text/plain": [
       "0.9205"
      ]
     },
     "execution_count": 267,
     "metadata": {},
     "output_type": "execute_result"
    }
   ],
   "source": [
    "# 정확도\n",
    "(y_pred == y_test).sum() / X_test.shape[0]"
   ]
  },
  {
   "cell_type": "markdown",
   "id": "08d3baa2-4822-49e5-9e20-e95b10949c2b",
   "metadata": {},
   "source": [
    "## 평가 "
   ]
  },
  {
   "cell_type": "code",
   "execution_count": 268,
   "id": "3805d700-864d-4598-907a-0e0ed8a543f5",
   "metadata": {},
   "outputs": [
    {
     "data": {
      "text/plain": [
       "array([[915,  85],\n",
       "       [ 74, 926]], dtype=int64)"
      ]
     },
     "execution_count": 268,
     "metadata": {},
     "output_type": "execute_result"
    }
   ],
   "source": [
    "from sklearn.metrics import confusion_matrix\n",
    "\n",
    "cfm = confusion_matrix(y_test, y_pred)\n",
    "cfm"
   ]
  },
  {
   "cell_type": "code",
   "execution_count": 269,
   "id": "7be2a6f6-081e-4971-87db-b4fa3351ef98",
   "metadata": {},
   "outputs": [
    {
     "data": {
      "image/png": "[encoded data removed]",
      "text/plain": [
       "<Figure size 600x400 with 1 Axes>"
      ]
     },
     "metadata": {},
     "output_type": "display_data"
    }
   ],
   "source": [
    "plt.figure(figsize=(6,4))\n",
    "sns.heatmap(cfm, annot = True, fmt='g', cbar=False, cmap='Blues')\n",
    "plt.ylabel(\"Active Class\")\n",
    "plt.xlabel('Predicted Class')\n",
    "plt.show()"
   ]
  },
  {
   "cell_type": "code",
   "execution_count": 270,
   "id": "831c27e2-0305-4225-adb6-df3762070456",
   "metadata": {},
   "outputs": [],
   "source": [
    "from sklearn.metrics import accuracy_score, precision_score, recall_score\n",
    "\n",
    "def print_score(y_true, y_pred):\n",
    "    print(f'정확도 : {accuracy_score(y_true, y_pred)}')\n",
    "    print(f'정밀도 : {precision_score(y_true, y_pred)}')\n",
    "    print(f'재현율 : {recall_score(y_true, y_pred)}')"
   ]
  },
  {
   "cell_type": "code",
   "execution_count": 271,
   "id": "9027bc87-0760-4fdb-8bd5-92957178a8d1",
   "metadata": {},
   "outputs": [
    {
     "name": "stdout",
     "output_type": "stream",
     "text": [
      "정확도 : 0.9205\n",
      "정밀도 : 0.9159248269040554\n",
      "재현율 : 0.926\n"
     ]
    }
   ],
   "source": [
    "print_score(y_test, y_pred)"
   ]
  },
  {
   "cell_type": "code",
   "execution_count": 276,
   "id": "d7b72cf6-b3dc-41bd-a224-929f358dc71e",
   "metadata": {},
   "outputs": [
    {
     "name": "stdout",
     "output_type": "stream",
     "text": [
      "k = 3 일때 정확도 : 0.921\n",
      "k = 4 일때 정확도 : 0.9245\n",
      "k = 5 일때 정확도 : 0.9235\n",
      "k = 6 일때 정확도 : 0.926\n",
      "k = 7 일때 정확도 : 0.926\n",
      "k = 8 일때 정확도 : 0.925\n",
      "k = 9 일때 정확도 : 0.924\n",
      "k = 10 일때 정확도 : 0.922\n",
      "k = 11 일때 정확도 : 0.9225\n",
      "k = 12 일때 정확도 : 0.9225\n",
      "k = 13 일때 정확도 : 0.9225\n",
      "k = 14 일때 정확도 : 0.9245\n",
      "k = 15 일때 정확도 : 0.9255\n",
      "k = 16 일때 정확도 : 0.924\n",
      "k = 17 일때 정확도 : 0.926\n",
      "k = 18 일때 정확도 : 0.923\n",
      "k = 19 일때 정확도 : 0.9245\n",
      "k = 20 일때 정확도 : 0.9275\n",
      "k = 21 일때 정확도 : 0.9265\n",
      "k = 22 일때 정확도 : 0.929\n",
      "k = 23 일때 정확도 : 0.929\n",
      "k = 24 일때 정확도 : 0.93\n",
      "k = 25 일때 정확도 : 0.931\n",
      "k = 26 일때 정확도 : 0.93\n",
      "k = 27 일때 정확도 : 0.93\n",
      "k = 28 일때 정확도 : 0.9285\n",
      "k = 29 일때 정확도 : 0.93\n",
      "k = 30 일때 정확도 : 0.928\n",
      "k = 31 일때 정확도 : 0.9305\n",
      "k = 32 일때 정확도 : 0.9295\n",
      "k = 33 일때 정확도 : 0.9295\n",
      "k = 34 일때 정확도 : 0.93\n",
      "k = 35 일때 정확도 : 0.9295\n",
      "k = 36 일때 정확도 : 0.9285\n",
      "k = 37 일때 정확도 : 0.93\n",
      "k = 38 일때 정확도 : 0.929\n",
      "k = 39 일때 정확도 : 0.93\n",
      "k = 40 일때 정확도 : 0.9285\n",
      "k = 41 일때 정확도 : 0.9285\n",
      "k = 42 일때 정확도 : 0.9275\n",
      "k = 43 일때 정확도 : 0.9285\n",
      "k = 44 일때 정확도 : 0.928\n",
      "k = 45 일때 정확도 : 0.928\n",
      "k = 46 일때 정확도 : 0.928\n",
      "0.931\n"
     ]
    }
   ],
   "source": [
    "acc_scores = []\n",
    "for k in range(3, 50):\n",
    "    # 새로운 모델 \n",
    "    model = KNeighborsClassifier(n_neighbors = k) \n",
    "    # 학습\n",
    "    model.fit(X_train_scaled, y_train)\n",
    "    y_pred = model.predict(X_test_scaled)\n",
    "    # 예측 정확도\n",
    "    acc_scores.append(accuracy_score(y_test, y_pred))\n",
    "    \n",
    "for i in range(3, 47): \n",
    "    print(f'k = {i} 일때 정확도 : {acc_scores[i]}')\n",
    "print(max(acc_scores))"
   ]
  },
  {
   "cell_type": "code",
   "execution_count": 277,
   "id": "ca0fe9b3-5284-4d95-8dee-df89c3a614d0",
   "metadata": {},
   "outputs": [
    {
     "data": {
      "text/plain": [
       "25"
      ]
     },
     "execution_count": 277,
     "metadata": {},
     "output_type": "execute_result"
    }
   ],
   "source": [
    "np.argmax(acc_scores)"
   ]
  },
  {
   "cell_type": "code",
   "execution_count": 278,
   "id": "8a94c28b-cb45-44e6-8c6a-5f01dd022384",
   "metadata": {},
   "outputs": [
    {
     "data": {
      "image/png": "[encoded data removed]",
      "text/plain": [
       "<Figure size 640x480 with 1 Axes>"
      ]
     },
     "metadata": {},
     "output_type": "display_data"
    }
   ],
   "source": [
    "plt.plot(range(3,50), acc_scores)\n",
    "plt.show()"
   ]
  },
  {
   "cell_type": "markdown",
   "id": "c32bb76b-d0e8-470c-a05e-e308424e3499",
   "metadata": {},
   "source": [
    "## K-Fold\n",
    "---\n",
    "* 학습이 잘 되었는가 확인"
   ]
  },
  {
   "cell_type": "code",
   "execution_count": 279,
   "id": "6169762e-fd3b-4ea9-86b0-be78f303aee8",
   "metadata": {},
   "outputs": [
    {
     "data": {
      "text/plain": [
       "(8000, 5)"
      ]
     },
     "execution_count": 279,
     "metadata": {},
     "output_type": "execute_result"
    }
   ],
   "source": [
    "X_train_scaled.shape"
   ]
  },
  {
   "cell_type": "code",
   "execution_count": 286,
   "id": "e6c771d4-7a22-4ee5-8c20-1f7b3e79b5ca",
   "metadata": {},
   "outputs": [
    {
     "name": "stdout",
     "output_type": "stream",
     "text": [
      "정확도 : 0.9193749999999999\n"
     ]
    }
   ],
   "source": [
    "from sklearn.model_selection import KFold\n",
    "\n",
    "kf = KFold(n_splits=5, shuffle=True, random_state=2022)\n",
    "\n",
    "acc_scores = []\n",
    "for train_idx, val_idx in kf.split(X_train_scaled): # 랜덤으로 나뉜 값들의 인덱스를 가지고옴 (no value)\n",
    "    # 데이터 분리\n",
    "    train_x, val_x = X_train_scaled[train_idx], X_train_scaled[val_idx] \n",
    "    train_y, val_y = y_train[train_idx], y_train[val_idx]\n",
    "    \n",
    "    #학습\n",
    "    model = KNeighborsClassifier(n_neighbors = 5)\n",
    "    model.fit(train_x, train_y)\n",
    "    y_pred = model.predict(val_x)\n",
    "    # 예측 정확도\n",
    "    acc_scores.append(accuracy_score(val_y, y_pred))\n",
    "    \n",
    "print('정확도 :', np.array(acc_scores).mean())"
   ]
  },
  {
   "cell_type": "code",
   "execution_count": 284,
   "id": "f448ee21-6b7d-43d6-bda3-90de829188c7",
   "metadata": {},
   "outputs": [
    {
     "data": {
      "text/plain": [
       "[0.914375, 0.91125, 0.934375, 0.92125, 0.915625]"
      ]
     },
     "execution_count": 284,
     "metadata": {},
     "output_type": "execute_result"
    }
   ],
   "source": [
    "acc_scores"
   ]
  },
  {
   "cell_type": "markdown",
   "id": "28df21e7-642f-42d7-b442-1edad68cc631",
   "metadata": {},
   "source": [
    "## kfold 최적 k값 찾기"
   ]
  },
  {
   "cell_type": "code",
   "execution_count": 291,
   "id": "246d9388-e0df-4c0d-aa6d-6fdad194cff8",
   "metadata": {},
   "outputs": [
    {
     "name": "stdout",
     "output_type": "stream",
     "text": [
      "정확도 : 0.9125\n",
      "정확도 : 0.9113749999999999\n",
      "정확도 : 0.9193749999999999\n",
      "정확도 : 0.9181250000000001\n",
      "정확도 : 0.9195\n",
      "정확도 : 0.9195\n",
      "정확도 : 0.9200000000000002\n",
      "정확도 : 0.920625\n",
      "정확도 : 0.92275\n",
      "정확도 : 0.92325\n",
      "정확도 : 0.9233750000000001\n",
      "정확도 : 0.92325\n",
      "정확도 : 0.92425\n",
      "정확도 : 0.924\n",
      "정확도 : 0.9243750000000001\n",
      "정확도 : 0.9247500000000001\n",
      "정확도 : 0.9252499999999999\n",
      "정확도 : 0.9257499999999999\n",
      "정확도 : 0.9255000000000001\n",
      "정확도 : 0.9252499999999999\n",
      "정확도 : 0.9252499999999999\n",
      "정확도 : 0.9252499999999999\n",
      "정확도 : 0.92425\n",
      "정확도 : 0.9248749999999999\n",
      "정확도 : 0.9252499999999999\n",
      "정확도 : 0.9252499999999999\n",
      "정확도 : 0.9251249999999999\n",
      "정확도 : 0.926375\n",
      "정확도 : 0.9261250000000001\n",
      "정확도 : 0.9262499999999999\n",
      "정확도 : 0.9261250000000001\n",
      "정확도 : 0.9258749999999999\n",
      "정확도 : 0.926375\n",
      "정확도 : 0.9266249999999999\n",
      "정확도 : 0.9258750000000001\n",
      "정확도 : 0.9254999999999999\n",
      "정확도 : 0.9251250000000001\n",
      "정확도 : 0.9247500000000001\n",
      "정확도 : 0.9252500000000001\n",
      "정확도 : 0.9251249999999999\n",
      "정확도 : 0.9252499999999999\n",
      "정확도 : 0.9257500000000001\n",
      "정확도 : 0.9259999999999999\n",
      "정확도 : 0.9255000000000001\n",
      "정확도 : 0.9262499999999999\n",
      "정확도 : 0.9258749999999999\n",
      "정확도 : 0.9261250000000001\n"
     ]
    }
   ],
   "source": [
    "acc_scores = [0,0,0]\n",
    "hist = []\n",
    "\n",
    "for k in range(3,50):\n",
    "    kf = KFold(n_splits=5, shuffle=True, random_state=2022)\n",
    "    acc_scores = []\n",
    "    \n",
    "    for train_idx, val_idx in kf.split(X_train_scaled): # 랜덤으로 나뉜 값들의 인덱스를 가지고옴 (no value)\n",
    "        # 데이터 분리\n",
    "        train_x, val_x = X_train_scaled[train_idx], X_train_scaled[val_idx] \n",
    "        train_y, val_y = y_train[train_idx], y_train[val_idx]\n",
    "\n",
    "        #학습\n",
    "        model = KNeighborsClassifier(n_neighbors = k)\n",
    "        model.fit(train_x, train_y)\n",
    "        y_pred = model.predict(val_x)\n",
    "\n",
    "        # 예측 정확도\n",
    "        acc_scores.append(accuracy_score(val_y, y_pred))\n",
    "    \n",
    "    print('정확도 :', np.array(acc_scores).mean())\n",
    "    hist.append(np.array(acc_scores).mean())"
   ]
  },
  {
   "cell_type": "markdown",
   "id": "18307178-ef46-40b5-b471-118b6a6fda06",
   "metadata": {},
   "source": [
    "## 교차 검증"
   ]
  },
  {
   "cell_type": "code",
   "execution_count": 294,
   "id": "c867262c-2478-474e-909e-848023658a4c",
   "metadata": {},
   "outputs": [
    {
     "name": "stdout",
     "output_type": "stream",
     "text": [
      "Requirement already satisfied: tqdm in c:\\users\\031\\anaconda3\\envs\\myml\\lib\\site-packages (4.64.0)\n",
      "Requirement already satisfied: colorama in c:\\users\\031\\anaconda3\\envs\\myml\\lib\\site-packages (from tqdm) (0.4.5)\n"
     ]
    },
    {
     "name": "stderr",
     "output_type": "stream",
     "text": [
      "WARNING: Error parsing requirements for numpy: [Errno 2] No such file or directory: 'c:\\\\users\\\\031\\\\anaconda3\\\\envs\\\\myml\\\\lib\\\\site-packages\\\\numpy-1.23.1.dist-info\\\\METADATA'\n"
     ]
    }
   ],
   "source": [
    "!pip install tqdm"
   ]
  },
  {
   "cell_type": "code",
   "execution_count": 298,
   "id": "a7f595b3-0b1f-4f5e-8aff-41cf986c63aa",
   "metadata": {},
   "outputs": [
    {
     "name": "stderr",
     "output_type": "stream",
     "text": [
      "\n",
      "\n",
      "  0%|                                                                                           | 0/47 [00:00<?, ?it/s]\u001b[A\u001b[A\n",
      "\n",
      "  2%|█▊                                                                                 | 1/47 [00:00<00:33,  1.38it/s]\u001b[A\u001b[A\n",
      "\n",
      "  4%|███▌                                                                               | 2/47 [00:01<00:32,  1.39it/s]\u001b[A\u001b[A\n",
      "\n",
      "  6%|█████▎                                                                             | 3/47 [00:02<00:31,  1.38it/s]\u001b[A\u001b[A\n",
      "\n",
      "  9%|███████                                                                            | 4/47 [00:02<00:31,  1.35it/s]\u001b[A\u001b[A\n",
      "\n",
      " 11%|████████▊                                                                          | 5/47 [00:03<00:31,  1.34it/s]\u001b[A\u001b[A\n",
      "\n",
      " 13%|██████████▌                                                                        | 6/47 [00:04<00:30,  1.33it/s]\u001b[A\u001b[A\n",
      "\n",
      " 15%|████████████▎                                                                      | 7/47 [00:05<00:30,  1.32it/s]\u001b[A\u001b[A\n",
      "\n",
      " 17%|██████████████▏                                                                    | 8/47 [00:06<00:29,  1.31it/s]\u001b[A\u001b[A\n",
      "\n",
      " 19%|███████████████▉                                                                   | 9/47 [00:06<00:29,  1.29it/s]\u001b[A\u001b[A\n",
      "\n",
      " 21%|█████████████████▍                                                                | 10/47 [00:07<00:29,  1.27it/s]\u001b[A\u001b[A\n",
      "\n",
      " 23%|███████████████████▏                                                              | 11/47 [00:08<00:28,  1.26it/s]\u001b[A\u001b[A\n",
      "\n",
      " 26%|████████████████████▉                                                             | 12/47 [00:09<00:28,  1.24it/s]\u001b[A\u001b[A\n",
      "\n",
      " 28%|██████████████████████▋                                                           | 13/47 [00:10<00:27,  1.23it/s]\u001b[A\u001b[A\n",
      "\n",
      " 30%|████████████████████████▍                                                         | 14/47 [00:10<00:27,  1.21it/s]\u001b[A\u001b[A\n",
      "\n",
      " 32%|██████████████████████████▏                                                       | 15/47 [00:11<00:26,  1.20it/s]\u001b[A\u001b[A\n",
      "\n",
      " 34%|███████████████████████████▉                                                      | 16/47 [00:12<00:25,  1.20it/s]\u001b[A\u001b[A\n",
      "\n",
      " 36%|█████████████████████████████▋                                                    | 17/47 [00:13<00:25,  1.19it/s]\u001b[A\u001b[A\n",
      "\n",
      " 38%|███████████████████████████████▍                                                  | 18/47 [00:14<00:24,  1.17it/s]\u001b[A\u001b[A\n",
      "\n",
      " 40%|█████████████████████████████████▏                                                | 19/47 [00:15<00:24,  1.16it/s]\u001b[A\u001b[A\n",
      "\n",
      " 43%|██████████████████████████████████▉                                               | 20/47 [00:16<00:23,  1.15it/s]\u001b[A\u001b[A\n",
      "\n",
      " 45%|████████████████████████████████████▋                                             | 21/47 [00:17<00:22,  1.15it/s]\u001b[A\u001b[A\n",
      "\n",
      " 47%|██████████████████████████████████████▍                                           | 22/47 [00:17<00:22,  1.13it/s]\u001b[A\u001b[A\n",
      "\n",
      " 49%|████████████████████████████████████████▏                                         | 23/47 [00:18<00:21,  1.12it/s]\u001b[A\u001b[A\n",
      "\n",
      " 51%|█████████████████████████████████████████▊                                        | 24/47 [00:19<00:20,  1.11it/s]\u001b[A\u001b[A\n",
      "\n",
      " 53%|███████████████████████████████████████████▌                                      | 25/47 [00:20<00:19,  1.10it/s]\u001b[A\u001b[A\n",
      "\n",
      " 55%|█████████████████████████████████████████████▎                                    | 26/47 [00:21<00:19,  1.09it/s]\u001b[A\u001b[A\n",
      "\n",
      " 57%|███████████████████████████████████████████████                                   | 27/47 [00:22<00:18,  1.08it/s]\u001b[A\u001b[A\n",
      "\n",
      " 60%|████████████████████████████████████████████████▊                                 | 28/47 [00:23<00:17,  1.08it/s]\u001b[A\u001b[A\n",
      "\n",
      " 62%|██████████████████████████████████████████████████▌                               | 29/47 [00:24<00:16,  1.07it/s]\u001b[A\u001b[A\n",
      "\n",
      " 64%|████████████████████████████████████████████████████▎                             | 30/47 [00:25<00:16,  1.05it/s]\u001b[A\u001b[A\n",
      "\n",
      " 66%|██████████████████████████████████████████████████████                            | 31/47 [00:26<00:15,  1.04it/s]\u001b[A\u001b[A\n",
      "\n",
      " 68%|███████████████████████████████████████████████████████▊                          | 32/47 [00:27<00:14,  1.04it/s]\u001b[A\u001b[A\n",
      "\n",
      " 70%|█████████████████████████████████████████████████████████▌                        | 33/47 [00:28<00:13,  1.03it/s]\u001b[A\u001b[A\n",
      "\n",
      " 72%|███████████████████████████████████████████████████████████▎                      | 34/47 [00:29<00:12,  1.03it/s]\u001b[A\u001b[A\n",
      "\n",
      " 74%|█████████████████████████████████████████████████████████████                     | 35/47 [00:30<00:11,  1.02it/s]\u001b[A\u001b[A\n",
      "\n",
      " 77%|██████████████████████████████████████████████████████████████▊                   | 36/47 [00:31<00:10,  1.01it/s]\u001b[A\u001b[A\n",
      "\n",
      " 79%|████████████████████████████████████████████████████████████████▌                 | 37/47 [00:32<00:09,  1.00it/s]\u001b[A\u001b[A\n",
      "\n",
      " 81%|██████████████████████████████████████████████████████████████████▎               | 38/47 [00:33<00:09,  1.00s/it]\u001b[A\u001b[A\n",
      "\n",
      " 83%|████████████████████████████████████████████████████████████████████              | 39/47 [00:34<00:08,  1.01s/it]\u001b[A\u001b[A\n",
      "\n",
      " 85%|█████████████████████████████████████████████████████████████████████▊            | 40/47 [00:35<00:07,  1.01s/it]\u001b[A\u001b[A\n",
      "\n",
      " 87%|███████████████████████████████████████████████████████████████████████▌          | 41/47 [00:36<00:06,  1.02s/it]\u001b[A\u001b[A\n",
      "\n",
      " 89%|█████████████████████████████████████████████████████████████████████████▎        | 42/47 [00:37<00:05,  1.03s/it]\u001b[A\u001b[A\n",
      "\n",
      " 91%|███████████████████████████████████████████████████████████████████████████       | 43/47 [00:38<00:04,  1.04s/it]\u001b[A\u001b[A\n",
      "\n",
      " 94%|████████████████████████████████████████████████████████████████████████████▊     | 44/47 [00:39<00:03,  1.04s/it]\u001b[A\u001b[A\n",
      "\n",
      " 96%|██████████████████████████████████████████████████████████████████████████████▌   | 45/47 [00:40<00:02,  1.05s/it]\u001b[A\u001b[A\n",
      "\n",
      " 98%|████████████████████████████████████████████████████████████████████████████████▎ | 46/47 [00:41<00:01,  1.05s/it]\u001b[A\u001b[A\n",
      "\n",
      "100%|██████████████████████████████████████████████████████████████████████████████████| 47/47 [00:42<00:00,  1.10it/s]\u001b[A\u001b[A\n"
     ]
    }
   ],
   "source": [
    "from sklearn.model_selection import cross_val_score\n",
    "from tqdm import tqdm\n",
    "\n",
    "hist = [] \n",
    "\n",
    "for k in tqdm(range(3,50)):\n",
    "    model = KNeighborsClassifier(n_neighbors = k)\n",
    "    scores = cross_val_score(model, X_train_scaled, y_train, cv =5, scoring='accuracy')\n",
    "    \n",
    "    hist.append(scores.mean())"
   ]
  },
  {
   "cell_type": "code",
   "execution_count": 293,
   "id": "6fe0407e-3423-4a90-b6f6-8fb3cc0ad45c",
   "metadata": {},
   "outputs": [
    {
     "data": {
      "text/plain": [
       "[0.909,\n",
       " 0.9112500000000001,\n",
       " 0.915,\n",
       " 0.9164999999999999,\n",
       " 0.9176249999999999,\n",
       " 0.9190000000000002,\n",
       " 0.91975,\n",
       " 0.9200000000000002,\n",
       " 0.9212499999999999,\n",
       " 0.9205,\n",
       " 0.91975,\n",
       " 0.9203749999999999,\n",
       " 0.9217500000000001,\n",
       " 0.9215,\n",
       " 0.9233750000000001,\n",
       " 0.92325,\n",
       " 0.9231250000000001,\n",
       " 0.924,\n",
       " 0.924,\n",
       " 0.92425,\n",
       " 0.9243749999999998,\n",
       " 0.9247500000000001,\n",
       " 0.9253750000000001,\n",
       " 0.925,\n",
       " 0.9256249999999999,\n",
       " 0.9250000000000002,\n",
       " 0.9248750000000001,\n",
       " 0.9257499999999999,\n",
       " 0.926375,\n",
       " 0.9251249999999999,\n",
       " 0.9255000000000001,\n",
       " 0.9245000000000001,\n",
       " 0.9257500000000001,\n",
       " 0.926375,\n",
       " 0.926375,\n",
       " 0.9261250000000001,\n",
       " 0.9259999999999999,\n",
       " 0.9253750000000001,\n",
       " 0.9262500000000001,\n",
       " 0.92675,\n",
       " 0.9259999999999999,\n",
       " 0.9265000000000001,\n",
       " 0.9265000000000001,\n",
       " 0.925,\n",
       " 0.9253750000000001,\n",
       " 0.9255000000000001,\n",
       " 0.9259999999999999]"
      ]
     },
     "execution_count": 299,
     "metadata": {},
     "output_type": "execute_result"
    }
   ],
   "source": [
    "hist"
   ]
  },
  {
   "cell_type": "code",
   "execution_count": null,
   "id": "3ad7076f-4497-4825-8997-02dc8f8f05d0",
   "metadata": {},
   "outputs": [],
   "source": []
  }
 ],
 "metadata": {
  "kernelspec": {
   "display_name": "myml",
   "language": "python",
   "name": "myml"
  },
  "language_info": {
   "codemirror_mode": {
    "name": "ipython",
    "version": 3
   },
   "file_extension": ".py",
   "mimetype": "text/x-python",
   "name": "python",
   "nbconvert_exporter": "python",
   "pygments_lexer": "ipython3",
   "version": "3.8.0"
  }
 },
 "nbformat": 4,
 "nbformat_minor": 5
}
