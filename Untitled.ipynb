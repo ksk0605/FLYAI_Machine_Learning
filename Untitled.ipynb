{
 "cells": [
  {
   "cell_type": "code",
   "execution_count": 1,
   "id": "d36668fb-5ce7-46a1-81ea-27d0309d31f4",
   "metadata": {},
   "outputs": [
    {
     "name": "stdout",
     "output_type": "stream",
     "text": [
      "1+2+,,,+100000000= 5000000050000000\n",
      "소요시간은  17.600504636764526 초입니다.\n"
     ]
    }
   ],
   "source": [
    "import time\n",
    "\n",
    "start = time.time()\n",
    "sum = 0\n",
    "\n",
    "for i in range(1,100000001):\n",
    "  sum = sum+i\n",
    "\n",
    "end = time.time()\n",
    "\n",
    "print('1+2+,,,+100000000=', sum)\n",
    "print('소요시간은 ', end-start, '초입니다.')"
   ]
  },
  {
   "cell_type": "code",
   "execution_count": 4,
   "id": "0cb9217f-005a-48d3-8f7e-fb8d660f8c4e",
   "metadata": {},
   "outputs": [
    {
     "name": "stdin",
     "output_type": "stream",
     "text": [
      "경기가 열린 곳은?  런던\n",
      "경기가 열린 시간은?  1시\n",
      "상대 팀은?  멘유\n",
      "손흥민은 몇 골을 넣었나요?  1\n",
      "도움은 몇 개 인가요?  3\n",
      "손흥민 팀이 넣은 골 수는?  3\n",
      "상대 팀이 넣은 골 수는?  2\n"
     ]
    },
    {
     "name": "stdout",
     "output_type": "stream",
     "text": [
      "[프리미어 리그 속보(2022-07-20 10:47:17.107290)]\n",
      "손흥민 선수는 런던에서 1시에 열린 경기에 출전하였습니다. 상대 팀은 멘유입니다. 손흥민 선수의 팀이 3골을 넣어 2골을 넣은 상대 팀을 이겼습니다. 손흥민 선수는 1골에 도움 3개로 승리를 크게 이끌었습니다. \n"
     ]
    }
   ],
   "source": [
    "from datetime import datetime\n",
    "\n",
    "#경기결과를 입력받는 곳\n",
    "place = input('경기가 열린 곳은? ')\n",
    "time = input('경기가 열린 시간은? ')\n",
    "opponent = input('상대 팀은? ')\n",
    "goals = input('손흥민은 몇 골을 넣었나요? ')\n",
    "aids = input('도움은 몇 개 인가요? ')\n",
    "score_me=input('손흥민 팀이 넣은 골 수는? ')\n",
    "score_you = input('상대 팀이 넣은 골 수는? ')\n",
    "\n",
    "#기사 작성하는 곳 \n",
    "news = '[프리미어 리그 속보('+str(datetime.now())+')]\\n'\n",
    "news = news+'손흥민 선수는 ' + place + '에서 ' + time + '에 열린 경기에 출전하였습니다. '\n",
    "news= news+'상대 팀은 ' + opponent+'입니다. '\n",
    "\n",
    "if score_me>score_you:\n",
    "    news=news+'손흥민 선수의 팀이 ' + score_me + '골을 넣어 ' + score_you+'골을 넣은 상대 팀을 이겼습니다. '\n",
    "elif score_me<score_you:\n",
    "    news=news+'손흥민 선수의 팀이 ' + score_me + '골을 넣어 ' + score_you+'골을 넣은 상대 팀에게 졌습니다. '\n",
    "else:\n",
    "    news=news+'두 팀은 ' + score_me + '대' + score_you+'로 비겼습니다. '\n",
    "\n",
    "if int(goals) > 0 and int(aids)>0:\n",
    "  news = news + '손흥민 선수는 ' +goals+'골에 도움 ' + aids +'개로 승리를 크게 이끌었습니다. '\n",
    "elif int(goals) > 0 and int(aids) == 0:\n",
    "  news = news + '손흥민 선순느 ' +goals+'골로 승리를 이끌었습니다. '\n",
    "elif int(goals) ==  0 and int(aids) > 0:\n",
    "  news=news+ '손흥민 선수는 골은 없지만 도움 ' + aids + '개로 승리하는 데 공헌하였습니다. '\n",
    "else:\n",
    "  news = news+'아쉽게도 이번 경기에서 손흥민의 발끝은 침묵을 지켰습니다. '\n",
    "\n",
    "print(news)"
   ]
  },
  {
   "cell_type": "code",
   "execution_count": 2,
   "id": "09f21df4-9561-43b9-968b-19c6cf80179a",
   "metadata": {},
   "outputs": [
    {
     "name": "stdout",
     "output_type": "stream",
     "text": [
      "Collecting gtts"
     ]
    },
    {
     "name": "stderr",
     "output_type": "stream",
     "text": [
      "WARNING: Error parsing requirements for numpy: [Errno 2] No such file or directory: 'c:\\\\users\\\\031\\\\anaconda3\\\\envs\\\\myml\\\\lib\\\\site-packages\\\\numpy-1.23.1.dist-info\\\\METADATA'\n"
     ]
    },
    {
     "name": "stdout",
     "output_type": "stream",
     "text": [
      "\n",
      "  Using cached gTTS-2.2.4-py3-none-any.whl (26 kB)\n",
      "Collecting playsound\n",
      "  Using cached playsound-1.3.0-py3-none-any.whl\n",
      "Requirement already satisfied: click in c:\\users\\031\\anaconda3\\envs\\myml\\lib\\site-packages (from gtts) (8.0.4)\n",
      "Requirement already satisfied: requests in c:\\users\\031\\anaconda3\\envs\\myml\\lib\\site-packages (from gtts) (2.28.1)\n",
      "Requirement already satisfied: six in c:\\users\\031\\anaconda3\\envs\\myml\\lib\\site-packages (from gtts) (1.16.0)\n",
      "Requirement already satisfied: colorama in c:\\users\\031\\anaconda3\\envs\\myml\\lib\\site-packages (from click->gtts) (0.4.5)\n",
      "Requirement already satisfied: charset-normalizer<3,>=2 in c:\\users\\031\\anaconda3\\envs\\myml\\lib\\site-packages (from requests->gtts) (2.1.0)\n",
      "Requirement already satisfied: idna<4,>=2.5 in c:\\users\\031\\anaconda3\\envs\\myml\\lib\\site-packages (from requests->gtts) (3.3)\n",
      "Requirement already satisfied: certifi>=2017.4.17 in c:\\users\\031\\anaconda3\\envs\\myml\\lib\\site-packages (from requests->gtts) (2022.6.15)\n",
      "Requirement already satisfied: urllib3<1.27,>=1.21.1 in c:\\users\\031\\anaconda3\\envs\\myml\\lib\\site-packages (from requests->gtts) (1.26.10)\n",
      "Installing collected packages: playsound, gtts\n",
      "Successfully installed gtts-2.2.4 playsound-1.3.0\n"
     ]
    }
   ],
   "source": [
    "!pip install gtts playsound"
   ]
  },
  {
   "cell_type": "code",
   "execution_count": 5,
   "id": "c7942ea1-0c4b-45d4-ac3a-42e3c88c3edf",
   "metadata": {},
   "outputs": [],
   "source": [
    "from gtts import gTTS\n",
    "import playsound\n",
    "\n",
    "tts= gTTS(text=news, lang='ko')\n",
    "tts.save('news_Son.mp3')\n",
    "playsound.playsound('news_Son.mp3',True)"
   ]
  },
  {
   "cell_type": "code",
   "execution_count": null,
   "id": "eed53aa8-31d0-40fd-b0ff-73c6941276b9",
   "metadata": {},
   "outputs": [],
   "source": []
  }
 ],
 "metadata": {
  "kernelspec": {
   "display_name": "myml",
   "language": "python",
   "name": "myml"
  },
  "language_info": {
   "codemirror_mode": {
    "name": "ipython",
    "version": 3
   },
   "file_extension": ".py",
   "mimetype": "text/x-python",
   "name": "python",
   "nbconvert_exporter": "python",
   "pygments_lexer": "ipython3",
   "version": "3.8.0"
  }
 },
 "nbformat": 4,
 "nbformat_minor": 5
}
